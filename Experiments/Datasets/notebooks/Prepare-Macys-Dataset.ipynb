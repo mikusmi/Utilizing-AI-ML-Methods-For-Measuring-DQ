{
 "cells": [
  {
   "cell_type": "markdown",
   "metadata": {},
   "source": [
    "# Prepare Macys dataset\n",
    "\n",
    "* https://www.kaggle.com/PromptCloudHQ/innerwear-data-from-victorias-secret-and-others?select=macys_com.csv\n",
    "* Macy’s dataset was found on the Kaggle datasets repository. Macy’s is an American department store selling products such as clothing, footwear or accessories. The dataset contains innerwear and swimwear products. The dataset has 40897 records and 14 columns (e.g. product_name, price, pdp_url, brand_name, rating) in CSV format. More detailed information about the dataset can be found in Table 3.1 and in the Dataset Kaggle link.\n",
    "* Detail information about datasets can be found in the Master's thesis."
   ]
  },
  {
   "cell_type": "code",
   "execution_count": null,
   "metadata": {},
   "outputs": [],
   "source": [
    "import pandas as pd\n",
    "import numpy as np\n",
    "\n",
    "pd.options.display.max_columns = None\n",
    "pd.options.display.max_rows = None"
   ]
  },
  {
   "cell_type": "code",
   "execution_count": 2,
   "metadata": {},
   "outputs": [],
   "source": [
    "orig_data = pd.read_csv('./../data/macys-dataset.csv')"
   ]
  },
  {
   "cell_type": "code",
   "execution_count": 3,
   "metadata": {},
   "outputs": [
    {
     "data": {
      "text/plain": [
       "(40897, 14)"
      ]
     },
     "metadata": {},
     "output_type": "display_data"
    },
    {
     "data": {
      "text/html": [
       "<div>\n",
       "<style scoped>\n",
       "    .dataframe tbody tr th:only-of-type {\n",
       "        vertical-align: middle;\n",
       "    }\n",
       "\n",
       "    .dataframe tbody tr th {\n",
       "        vertical-align: top;\n",
       "    }\n",
       "\n",
       "    .dataframe thead th {\n",
       "        text-align: right;\n",
       "    }\n",
       "</style>\n",
       "<table border=\"1\" class=\"dataframe\">\n",
       "  <thead>\n",
       "    <tr style=\"text-align: right;\">\n",
       "      <th></th>\n",
       "      <th>rating</th>\n",
       "      <th>review_count</th>\n",
       "    </tr>\n",
       "  </thead>\n",
       "  <tbody>\n",
       "    <tr>\n",
       "      <th>count</th>\n",
       "      <td>26092.000000</td>\n",
       "      <td>26101.000000</td>\n",
       "    </tr>\n",
       "    <tr>\n",
       "      <th>mean</th>\n",
       "      <td>4.447934</td>\n",
       "      <td>31.035094</td>\n",
       "    </tr>\n",
       "    <tr>\n",
       "      <th>std</th>\n",
       "      <td>0.607859</td>\n",
       "      <td>60.745419</td>\n",
       "    </tr>\n",
       "    <tr>\n",
       "      <th>min</th>\n",
       "      <td>0.000000</td>\n",
       "      <td>1.000000</td>\n",
       "    </tr>\n",
       "    <tr>\n",
       "      <th>25%</th>\n",
       "      <td>4.200000</td>\n",
       "      <td>2.000000</td>\n",
       "    </tr>\n",
       "    <tr>\n",
       "      <th>50%</th>\n",
       "      <td>4.600000</td>\n",
       "      <td>7.000000</td>\n",
       "    </tr>\n",
       "    <tr>\n",
       "      <th>75%</th>\n",
       "      <td>4.900000</td>\n",
       "      <td>25.000000</td>\n",
       "    </tr>\n",
       "    <tr>\n",
       "      <th>max</th>\n",
       "      <td>5.000000</td>\n",
       "      <td>406.000000</td>\n",
       "    </tr>\n",
       "  </tbody>\n",
       "</table>\n",
       "</div>"
      ],
      "text/plain": [
       "             rating  review_count\n",
       "count  26092.000000  26101.000000\n",
       "mean       4.447934     31.035094\n",
       "std        0.607859     60.745419\n",
       "min        0.000000      1.000000\n",
       "25%        4.200000      2.000000\n",
       "50%        4.600000      7.000000\n",
       "75%        4.900000     25.000000\n",
       "max        5.000000    406.000000"
      ]
     },
     "metadata": {},
     "output_type": "display_data"
    },
    {
     "name": "stdout",
     "output_type": "stream",
     "text": [
      "<class 'pandas.core.frame.DataFrame'>\n",
      "RangeIndex: 40897 entries, 0 to 40896\n",
      "Data columns (total 14 columns):\n",
      " #   Column            Non-Null Count  Dtype  \n",
      "---  ------            --------------  -----  \n",
      " 0   product_name      40897 non-null  object \n",
      " 1   mrp               40897 non-null  object \n",
      " 2   price             40897 non-null  object \n",
      " 3   pdp_url           40897 non-null  object \n",
      " 4   brand_name        40897 non-null  object \n",
      " 5   product_category  40897 non-null  object \n",
      " 6   retailer          40897 non-null  object \n",
      " 7   description       40897 non-null  object \n",
      " 8   rating            26092 non-null  float64\n",
      " 9   review_count      26101 non-null  float64\n",
      " 10  style_attributes  40897 non-null  object \n",
      " 11  total_sizes       40897 non-null  object \n",
      " 12  available_size    40897 non-null  object \n",
      " 13  color             40897 non-null  object \n",
      "dtypes: float64(2), object(12)\n",
      "memory usage: 4.4+ MB\n"
     ]
    }
   ],
   "source": [
    "display(orig_data.shape)\n",
    "display(orig_data.describe())\n",
    "orig_data.info()"
   ]
  },
  {
   "cell_type": "code",
   "execution_count": 4,
   "metadata": {},
   "outputs": [],
   "source": [
    "orig_data[\"has_synthetic_dq_issue\"] = 0\n",
    "orig_data[\"synthetic_dq_issues_count\"] = 0\n",
    "orig_data[\"synthetic_dq_issues\"] = \"\"\n",
    "orig_data[\"synthetic_dq_issue_columns\"] = \"\""
   ]
  },
  {
   "cell_type": "code",
   "execution_count": 5,
   "metadata": {},
   "outputs": [
    {
     "data": {
      "text/html": [
       "<div>\n",
       "<style scoped>\n",
       "    .dataframe tbody tr th:only-of-type {\n",
       "        vertical-align: middle;\n",
       "    }\n",
       "\n",
       "    .dataframe tbody tr th {\n",
       "        vertical-align: top;\n",
       "    }\n",
       "\n",
       "    .dataframe thead th {\n",
       "        text-align: right;\n",
       "    }\n",
       "</style>\n",
       "<table border=\"1\" class=\"dataframe\">\n",
       "  <thead>\n",
       "    <tr style=\"text-align: right;\">\n",
       "      <th></th>\n",
       "      <th>product_name</th>\n",
       "      <th>mrp</th>\n",
       "      <th>price</th>\n",
       "      <th>pdp_url</th>\n",
       "      <th>brand_name</th>\n",
       "      <th>product_category</th>\n",
       "      <th>retailer</th>\n",
       "      <th>description</th>\n",
       "      <th>rating</th>\n",
       "      <th>review_count</th>\n",
       "      <th>style_attributes</th>\n",
       "      <th>total_sizes</th>\n",
       "      <th>available_size</th>\n",
       "      <th>color</th>\n",
       "      <th>has_synthetic_dq_issue</th>\n",
       "      <th>synthetic_dq_issues_count</th>\n",
       "      <th>synthetic_dq_issues</th>\n",
       "      <th>synthetic_dq_issue_columns</th>\n",
       "    </tr>\n",
       "  </thead>\n",
       "  <tbody>\n",
       "    <tr>\n",
       "      <th>0</th>\n",
       "      <td>ID String Bikini QF1754</td>\n",
       "      <td>$20.00</td>\n",
       "      <td>$20.00</td>\n",
       "      <td>http://www1.macys.com/shop/product/calvin-klei...</td>\n",
       "      <td>Calvin Klein</td>\n",
       "      <td>Women - Lingerie &amp; Shapewear - Designer Lingerie</td>\n",
       "      <td>Macys US</td>\n",
       "      <td>The perfect amount of coverage in a subtle sil...</td>\n",
       "      <td>NaN</td>\n",
       "      <td>NaN</td>\n",
       "      <td>[\"Thin elastic waistband \", \"Repeating logo at...</td>\n",
       "      <td>[\"XS\", \"S\", \"M\", \"L\", \"XL\"]</td>\n",
       "      <td>[\"XS\", \"S\", \"M\", \"L\", \"XL\"]</td>\n",
       "      <td>Black</td>\n",
       "      <td>0</td>\n",
       "      <td>0</td>\n",
       "      <td></td>\n",
       "      <td></td>\n",
       "    </tr>\n",
       "    <tr>\n",
       "      <th>1</th>\n",
       "      <td>ID String Bikini QF1754</td>\n",
       "      <td>$20.00</td>\n",
       "      <td>$20.00</td>\n",
       "      <td>http://www1.macys.com/shop/product/calvin-klei...</td>\n",
       "      <td>Calvin Klein</td>\n",
       "      <td>Women - Lingerie &amp; Shapewear - Designer Lingerie</td>\n",
       "      <td>Macys US</td>\n",
       "      <td>The perfect amount of coverage in a subtle sil...</td>\n",
       "      <td>NaN</td>\n",
       "      <td>NaN</td>\n",
       "      <td>[\"Thin elastic waistband \", \"Repeating logo at...</td>\n",
       "      <td>[\"XS\", \"S\", \"M\", \"L\", \"XL\"]</td>\n",
       "      <td>[\"XS\", \"S\", \"M\", \"L\", \"XL\"]</td>\n",
       "      <td>Simple Grid</td>\n",
       "      <td>0</td>\n",
       "      <td>0</td>\n",
       "      <td></td>\n",
       "      <td></td>\n",
       "    </tr>\n",
       "    <tr>\n",
       "      <th>2</th>\n",
       "      <td>ID String Bikini QF1754</td>\n",
       "      <td>$20.00</td>\n",
       "      <td>$20.00</td>\n",
       "      <td>http://www1.macys.com/shop/product/calvin-klei...</td>\n",
       "      <td>Calvin Klein</td>\n",
       "      <td>Women - Lingerie &amp; Shapewear - Designer Lingerie</td>\n",
       "      <td>Macys US</td>\n",
       "      <td>The perfect amount of coverage in a subtle sil...</td>\n",
       "      <td>NaN</td>\n",
       "      <td>NaN</td>\n",
       "      <td>[\"Thin elastic waistband \", \"Repeating logo at...</td>\n",
       "      <td>[\"XS\", \"S\", \"M\", \"L\", \"XL\"]</td>\n",
       "      <td>[\"XS\", \"S\", \"M\", \"L\", \"XL\"]</td>\n",
       "      <td>White</td>\n",
       "      <td>0</td>\n",
       "      <td>0</td>\n",
       "      <td></td>\n",
       "      <td></td>\n",
       "    </tr>\n",
       "    <tr>\n",
       "      <th>3</th>\n",
       "      <td>CK Black Collection Embrace Lace-Waist Thong Q...</td>\n",
       "      <td>$26.00</td>\n",
       "      <td>$26.00</td>\n",
       "      <td>http://www1.macys.com/shop/product/calvin-klei...</td>\n",
       "      <td>Calvin Klein</td>\n",
       "      <td>Women - Lingerie &amp; Shapewear - Designer Lingerie</td>\n",
       "      <td>Macys US</td>\n",
       "      <td>Exquisitely designed embroidered lace beautifu...</td>\n",
       "      <td>NaN</td>\n",
       "      <td>NaN</td>\n",
       "      <td>[\"Elastic lace waistband\", \"Lace at front and ...</td>\n",
       "      <td>[\"M\"]</td>\n",
       "      <td>[\"M\"]</td>\n",
       "      <td>Regal Sensous</td>\n",
       "      <td>0</td>\n",
       "      <td>0</td>\n",
       "      <td></td>\n",
       "      <td></td>\n",
       "    </tr>\n",
       "    <tr>\n",
       "      <th>4</th>\n",
       "      <td>Halo Lace Boyshort 870205</td>\n",
       "      <td>$15.00</td>\n",
       "      <td>$15.00</td>\n",
       "      <td>http://www1.macys.com/shop/product/wacoal-halo...</td>\n",
       "      <td>Wacoal</td>\n",
       "      <td>Women - Lingerie &amp; Shapewear - Designer Lingerie</td>\n",
       "      <td>Macys US</td>\n",
       "      <td>A fit that is heavenly. The stretch lace Halo ...</td>\n",
       "      <td>5.0</td>\n",
       "      <td>2.0</td>\n",
       "      <td>[\"Stretch lace waistband\", \"All-over floral la...</td>\n",
       "      <td>[\"S\", \"M\", \"L\", \"XL\"]</td>\n",
       "      <td>[\"S\", \"M\", \"L\", \"XL\"]</td>\n",
       "      <td>Black</td>\n",
       "      <td>0</td>\n",
       "      <td>0</td>\n",
       "      <td></td>\n",
       "      <td></td>\n",
       "    </tr>\n",
       "  </tbody>\n",
       "</table>\n",
       "</div>"
      ],
      "text/plain": [
       "                                        product_name      mrp    price  \\\n",
       "0                            ID String Bikini QF1754  $20.00   $20.00    \n",
       "1                            ID String Bikini QF1754  $20.00   $20.00    \n",
       "2                            ID String Bikini QF1754  $20.00   $20.00    \n",
       "3  CK Black Collection Embrace Lace-Waist Thong Q...  $26.00   $26.00    \n",
       "4                          Halo Lace Boyshort 870205  $15.00   $15.00    \n",
       "\n",
       "                                             pdp_url    brand_name  \\\n",
       "0  http://www1.macys.com/shop/product/calvin-klei...  Calvin Klein   \n",
       "1  http://www1.macys.com/shop/product/calvin-klei...  Calvin Klein   \n",
       "2  http://www1.macys.com/shop/product/calvin-klei...  Calvin Klein   \n",
       "3  http://www1.macys.com/shop/product/calvin-klei...  Calvin Klein   \n",
       "4  http://www1.macys.com/shop/product/wacoal-halo...        Wacoal   \n",
       "\n",
       "                                   product_category  retailer  \\\n",
       "0  Women - Lingerie & Shapewear - Designer Lingerie  Macys US   \n",
       "1  Women - Lingerie & Shapewear - Designer Lingerie  Macys US   \n",
       "2  Women - Lingerie & Shapewear - Designer Lingerie  Macys US   \n",
       "3  Women - Lingerie & Shapewear - Designer Lingerie  Macys US   \n",
       "4  Women - Lingerie & Shapewear - Designer Lingerie  Macys US   \n",
       "\n",
       "                                         description  rating  review_count  \\\n",
       "0  The perfect amount of coverage in a subtle sil...     NaN           NaN   \n",
       "1  The perfect amount of coverage in a subtle sil...     NaN           NaN   \n",
       "2  The perfect amount of coverage in a subtle sil...     NaN           NaN   \n",
       "3  Exquisitely designed embroidered lace beautifu...     NaN           NaN   \n",
       "4  A fit that is heavenly. The stretch lace Halo ...     5.0           2.0   \n",
       "\n",
       "                                    style_attributes  \\\n",
       "0  [\"Thin elastic waistband \", \"Repeating logo at...   \n",
       "1  [\"Thin elastic waistband \", \"Repeating logo at...   \n",
       "2  [\"Thin elastic waistband \", \"Repeating logo at...   \n",
       "3  [\"Elastic lace waistband\", \"Lace at front and ...   \n",
       "4  [\"Stretch lace waistband\", \"All-over floral la...   \n",
       "\n",
       "                   total_sizes               available_size          color  \\\n",
       "0  [\"XS\", \"S\", \"M\", \"L\", \"XL\"]  [\"XS\", \"S\", \"M\", \"L\", \"XL\"]          Black   \n",
       "1  [\"XS\", \"S\", \"M\", \"L\", \"XL\"]  [\"XS\", \"S\", \"M\", \"L\", \"XL\"]    Simple Grid   \n",
       "2  [\"XS\", \"S\", \"M\", \"L\", \"XL\"]  [\"XS\", \"S\", \"M\", \"L\", \"XL\"]          White   \n",
       "3                        [\"M\"]                        [\"M\"]  Regal Sensous   \n",
       "4        [\"S\", \"M\", \"L\", \"XL\"]        [\"S\", \"M\", \"L\", \"XL\"]          Black   \n",
       "\n",
       "   has_synthetic_dq_issue  synthetic_dq_issues_count synthetic_dq_issues  \\\n",
       "0                       0                          0                       \n",
       "1                       0                          0                       \n",
       "2                       0                          0                       \n",
       "3                       0                          0                       \n",
       "4                       0                          0                       \n",
       "\n",
       "  synthetic_dq_issue_columns  \n",
       "0                             \n",
       "1                             \n",
       "2                             \n",
       "3                             \n",
       "4                             "
      ]
     },
     "execution_count": 5,
     "metadata": {},
     "output_type": "execute_result"
    }
   ],
   "source": [
    "orig_data.head()"
   ]
  },
  {
   "cell_type": "markdown",
   "metadata": {},
   "source": [
    "## Create corrupted data"
   ]
  },
  {
   "cell_type": "markdown",
   "metadata": {},
   "source": [
    "### Common methods"
   ]
  },
  {
   "cell_type": "code",
   "execution_count": 6,
   "metadata": {},
   "outputs": [],
   "source": [
    "def set_synthetic_dq_issues_cols(row, dq_issues):\n",
    "    row['has_synthetic_dq_issue'] = 1\n",
    "    row['synthetic_dq_issues'] = dq_issues\n",
    "    return row"
   ]
  },
  {
   "cell_type": "code",
   "execution_count": 7,
   "metadata": {},
   "outputs": [],
   "source": [
    "def show_synthetic_dq_issues_cols(row):\n",
    "    print(row['has_synthetic_dq_issue'])\n",
    "    print(row['synthetic_dq_issues'])"
   ]
  },
  {
   "cell_type": "code",
   "execution_count": 8,
   "metadata": {},
   "outputs": [],
   "source": [
    "def print_cols_name_type(data, index):\n",
    "    for col_name in data.columns:     \n",
    "        print(\"[{}] - {} - {}\".format(col_name, type(data.iloc[index][col_name]), data.iloc[index][col_name]))"
   ]
  },
  {
   "cell_type": "code",
   "execution_count": 9,
   "metadata": {},
   "outputs": [],
   "source": [
    "def create_dq_issue_at_index(data, index, column_name, new_column_value, dq_issue_description, append=False):\n",
    "    print(\"############## BEFORE ###################\")\n",
    "    print(\"[{}] - {}\".format(column_name, data.iloc[index][column_name]))\n",
    "    print(\"[has_synthetic_dq_issue] - {}\".format(data.iloc[index]['has_synthetic_dq_issue']))\n",
    "    print(\"[synthetic_dq_issues] - {}\".format(data.iloc[index]['synthetic_dq_issues']))\n",
    "    print(\"[synthetic_dq_issues_count] - {}\".format(data.iloc[index]['synthetic_dq_issues_count']))\n",
    "    print(\"[synthetic_dq_issue_columns] - {}\".format(data.iloc[index]['synthetic_dq_issue_columns']))\n",
    "\n",
    "    data.at[index, column_name] = new_column_value\n",
    "    data.at[index, 'has_synthetic_dq_issue'] = 1\n",
    "    data.at[index, 'synthetic_dq_issues_count'] = data.at[index, 'synthetic_dq_issues_count'] + 1\n",
    "    \n",
    "    if append:\n",
    "        synthetic_dq_issues = data.at[index, 'synthetic_dq_issues']\n",
    "        data.at[index, 'synthetic_dq_issues'] = synthetic_dq_issues + \"; \" + dq_issue_description\n",
    "        \n",
    "        synthetic_dq_issue_columns = data.at[index, 'synthetic_dq_issue_columns']\n",
    "        data.at[index, 'synthetic_dq_issue_columns'] = synthetic_dq_issue_columns + \"; \" + column_name\n",
    "    else:\n",
    "        data.at[index, 'synthetic_dq_issues'] = dq_issue_description\n",
    "        data.at[index, 'synthetic_dq_issue_columns'] = column_name\n",
    "\n",
    "    print(\"############## AFTER ###################\")\n",
    "    print(\"[{}] - {}\".format(column_name, data.iloc[index][column_name]))\n",
    "    print(\"[has_synthetic_dq_issue] - {}\".format(data.iloc[index]['has_synthetic_dq_issue']))\n",
    "    print(\"[synthetic_dq_issues] - {}\".format(data.iloc[index]['synthetic_dq_issues']))\n",
    "    print(\"[synthetic_dq_issues_count] - {}\".format(data.iloc[index]['synthetic_dq_issues_count']))\n",
    "    print(\"[synthetic_dq_issue_columns] - {}\".format(data.iloc[index]['synthetic_dq_issue_columns']))"
   ]
  },
  {
   "cell_type": "markdown",
   "metadata": {},
   "source": [
    "### 1. Common data corruption"
   ]
  },
  {
   "cell_type": "markdown",
   "metadata": {},
   "source": [
    "#### A)"
   ]
  },
  {
   "cell_type": "code",
   "execution_count": 10,
   "metadata": {},
   "outputs": [
    {
     "name": "stdout",
     "output_type": "stream",
     "text": [
      "40897\n"
     ]
    }
   ],
   "source": [
    "print(len(orig_data))"
   ]
  },
  {
   "cell_type": "code",
   "execution_count": 11,
   "metadata": {},
   "outputs": [
    {
     "name": "stdout",
     "output_type": "stream",
     "text": [
      "[product_name] - <class 'str'> - Skinsense High-Cut Seamless Brief 871254\n",
      "[mrp] - <class 'str'> - $18.00 \n",
      "[price] - <class 'str'> - $18.00 \n",
      "[pdp_url] - <class 'str'> - http://www1.macys.com/shop/product/wacoal-skinsense-high-cut-seamless-brief-871254?ID=2906506&CategoryID=55805\n",
      "[brand_name] - <class 'str'> - Wacoal\n",
      "[product_category] - <class 'str'> - Women - Lingerie & Shapewear - Panties\n",
      "[retailer] - <class 'str'> - Macys US\n",
      "[description] - <class 'str'> - Light and comfy, this seamless stretch brief from Wacoal disappears under your clothes for the perfect silhouette.\n",
      "[rating] - <class 'numpy.float64'> - 5.0\n",
      "[review_count] - <class 'numpy.float64'> - 2.0\n",
      "[style_attributes] - <class 'str'> - [\"High cut\", \"Heat seal at leg for a clean finish\", \"Lined at gusset\", \"Nylon/spandex/cotton\", \"Hand wash\", \"Imported\", \"Web ID: 2906506\"]\n",
      "[total_sizes] - <class 'str'> - [\"S\", \"M\", \"L\", \"XL\"]\n",
      "[available_size] - <class 'str'> - [\"S\", \"M\", \"L\", \"XL\"]\n",
      "[color] - <class 'str'> - Conch Shell\n",
      "[has_synthetic_dq_issue] - <class 'numpy.int64'> - 0\n",
      "[synthetic_dq_issues_count] - <class 'numpy.int64'> - 0\n",
      "[synthetic_dq_issues] - <class 'str'> - \n",
      "[synthetic_dq_issue_columns] - <class 'str'> - \n"
     ]
    }
   ],
   "source": [
    "print_cols_name_type(orig_data, 3386)"
   ]
  },
  {
   "cell_type": "code",
   "execution_count": 12,
   "metadata": {},
   "outputs": [
    {
     "name": "stdout",
     "output_type": "stream",
     "text": [
      "############## BEFORE ###################\n",
      "[description] - Light and comfy, this seamless stretch brief from Wacoal disappears under your clothes for the perfect silhouette.\n",
      "[has_synthetic_dq_issue] - 0\n",
      "[synthetic_dq_issues] - \n",
      "[synthetic_dq_issues_count] - 0\n",
      "[synthetic_dq_issue_columns] - \n",
      "############## AFTER ###################\n",
      "[description] - I do not have time to create a description.\n",
      "[has_synthetic_dq_issue] - 1\n",
      "[synthetic_dq_issues] - [description][Incomplete information] Insufficient product description.\n",
      "[synthetic_dq_issues_count] - 1\n",
      "[synthetic_dq_issue_columns] - description\n"
     ]
    }
   ],
   "source": [
    "create_dq_issue_at_index(orig_data, 3386, 'description', 'I do not have time to create a description.', \"[description][Incomplete information] Insufficient product description.\")"
   ]
  },
  {
   "cell_type": "markdown",
   "metadata": {},
   "source": [
    "#### B)"
   ]
  },
  {
   "cell_type": "code",
   "execution_count": 13,
   "metadata": {},
   "outputs": [
    {
     "name": "stdout",
     "output_type": "stream",
     "text": [
      "[product_name] - <class 'str'> - ID Mesh Logo Thong QF1368\n",
      "[mrp] - <class 'str'> - $22.00 \n",
      "[price] - <class 'str'> - $22.00 \n",
      "[pdp_url] - <class 'str'> - http://www1.macys.com/shop/product/calvin-klein-id-mesh-logo-thong-qf1368?ID=4548295&CategoryID=65739\n",
      "[brand_name] - <class 'str'> - Calvin Klein\n",
      "[product_category] - <class 'str'> - Women - Lingerie & Shapewear - Designer Lingerie\n",
      "[retailer] - <class 'str'> - Macys US\n",
      "[description] - <class 'str'> - The sporty style of Calvin Klein's logo thong takes a sexy turn by incorporating sheer mesh details.\n",
      "[rating] - <class 'numpy.float64'> - nan\n",
      "[review_count] - <class 'numpy.float64'> - nan\n",
      "[style_attributes] - <class 'str'> - [\"Colorblocked elastic waistband with logo at front\", \"Solid panel at front; sheer fishnet mesh at sides and back\", \"Lined at gusset\", \"Cotton/elastane\", \"Hand wash\", \"Imported\", \"Web ID: 4548295\"]\n",
      "[total_sizes] - <class 'str'> - [\"S\", \"M\", \"L\"]\n",
      "[available_size] - <class 'str'> - [\"S\", \"M\", \"L\"]\n",
      "[color] - <class 'str'> - White\n",
      "[has_synthetic_dq_issue] - <class 'numpy.int64'> - 0\n",
      "[synthetic_dq_issues_count] - <class 'numpy.int64'> - 0\n",
      "[synthetic_dq_issues] - <class 'str'> - \n",
      "[synthetic_dq_issue_columns] - <class 'str'> - \n"
     ]
    }
   ],
   "source": [
    "print_cols_name_type(orig_data, 13386)"
   ]
  },
  {
   "cell_type": "code",
   "execution_count": 14,
   "metadata": {},
   "outputs": [
    {
     "name": "stdout",
     "output_type": "stream",
     "text": [
      "############## BEFORE ###################\n",
      "[color] - White\n",
      "[has_synthetic_dq_issue] - 0\n",
      "[synthetic_dq_issues] - \n",
      "[synthetic_dq_issues_count] - 0\n",
      "[synthetic_dq_issue_columns] - \n",
      "############## AFTER ###################\n",
      "[color] - blakc\n",
      "[has_synthetic_dq_issue] - 1\n",
      "[synthetic_dq_issues] - [color][Typo] Wrong color name.\n",
      "[synthetic_dq_issues_count] - 1\n",
      "[synthetic_dq_issue_columns] - color\n"
     ]
    }
   ],
   "source": [
    "create_dq_issue_at_index(orig_data, 13386, 'color', 'blakc', \"[color][Typo] Wrong color name.\")"
   ]
  },
  {
   "cell_type": "markdown",
   "metadata": {},
   "source": [
    "#### C)"
   ]
  },
  {
   "cell_type": "code",
   "execution_count": 15,
   "metadata": {},
   "outputs": [
    {
     "name": "stdout",
     "output_type": "stream",
     "text": [
      "[product_name] - <class 'str'> - Brenton Striped Brazilian Lace Bikini 2V2105\n",
      "[mrp] - <class 'str'> - $34.00 \n",
      "[price] - <class 'str'> - $34.00 \n",
      "[pdp_url] - <class 'str'> - http://www1.macys.com/shop/product/hanky-panky-brenton-striped-brazilian-lace-bikini-2v2105?ID=3161246&CategoryID=65739\n",
      "[brand_name] - <class 'str'> - Hanky Panky\n",
      "[product_category] - <class 'str'> - Women - Lingerie & Shapewear - Designer Lingerie\n",
      "[retailer] - <class 'str'> - Macys US\n",
      "[description] - <class 'str'> - A cool striped print adds lovely style to this soft, lacy bikini from Hanky Panky.\n",
      "[rating] - <class 'numpy.float64'> - nan\n",
      "[review_count] - <class 'numpy.float64'> - nan\n",
      "[style_attributes] - <class 'str'> - [\"Soft lace\", \"One size fits all\", \"Lined at gusset\", \"Nylon; exclusive of trim; gusset: cotton\", \"Hand wash\", \"Made in USA\", \"Web ID: 3161246\"]\n",
      "[total_sizes] - <class 'str'> - [\"XS\", \"S\", \"M\", \"L\"]\n",
      "[available_size] - <class 'str'> - [\"XS\", \"S\", \"M\", \"L\"]\n",
      "[color] - <class 'str'> - Blue/White\n",
      "[has_synthetic_dq_issue] - <class 'numpy.int64'> - 0\n",
      "[synthetic_dq_issues_count] - <class 'numpy.int64'> - 0\n",
      "[synthetic_dq_issues] - <class 'str'> - \n",
      "[synthetic_dq_issue_columns] - <class 'str'> - \n"
     ]
    }
   ],
   "source": [
    "print_cols_name_type(orig_data, 24123)"
   ]
  },
  {
   "cell_type": "code",
   "execution_count": 16,
   "metadata": {},
   "outputs": [
    {
     "name": "stdout",
     "output_type": "stream",
     "text": [
      "############## BEFORE ###################\n",
      "[price] - $34.00 \n",
      "[has_synthetic_dq_issue] - 0\n",
      "[synthetic_dq_issues] - \n",
      "[synthetic_dq_issues_count] - 0\n",
      "[synthetic_dq_issue_columns] - \n",
      "############## AFTER ###################\n",
      "[price] - $0.50\n",
      "[has_synthetic_dq_issue] - 1\n",
      "[synthetic_dq_issues] - [price][Typo] Low product price.\n",
      "[synthetic_dq_issues_count] - 1\n",
      "[synthetic_dq_issue_columns] - price\n"
     ]
    }
   ],
   "source": [
    "create_dq_issue_at_index(orig_data, 24123, 'price', '$0.50', \"[price][Typo] Low product price.\")"
   ]
  },
  {
   "cell_type": "markdown",
   "metadata": {},
   "source": [
    "#### D)"
   ]
  },
  {
   "cell_type": "code",
   "execution_count": 17,
   "metadata": {},
   "outputs": [
    {
     "name": "stdout",
     "output_type": "stream",
     "text": [
      "[product_name] - <class 'str'> - Intense Power Low-Impact Mesh-Racerback Bralette QF1540\n",
      "[mrp] - <class 'str'> - $36.00 \n",
      "[price] - <class 'str'> - $18.90 \n",
      "[pdp_url] - <class 'str'> - http://www1.macys.com/shop/product/calvin-klein-intense-power-low-impact-mesh-racerback-bralette-qf1540?ID=2747953&CategoryID=55799\n",
      "[brand_name] - <class 'str'> - Calvin Klein\n",
      "[product_category] - <class 'str'> - Women - Lingerie & Shapewear - Bras\n",
      "[retailer] - <class 'str'> - Macys US\n",
      "[description] - <class 'str'> - The iconic logo is the perfect finishing touch to this comfy bralette from Intense Power by Calvin Klein.\n",
      "[rating] - <class 'numpy.float64'> - 3.5\n",
      "[review_count] - <class 'numpy.float64'> - 2.0\n",
      "[style_attributes] - <class 'str'> - [\"Wireless cups\", \"Wide band below bust with logo\", \"Racerback with sheer mesh panel\", \"Pull-on style\", \"Low-impact sports bra ideal for yoga, pilates and lounging\", \"Nylon/elastane\", \"Machine washable\", \"Imported\", \"Web ID: 2747953\"]\n",
      "[total_sizes] - <class 'str'> - [\"L\"]\n",
      "[available_size] - <class 'str'> - [\"L\"]\n",
      "[color] - <class 'str'> - Urban Blue\n",
      "[has_synthetic_dq_issue] - <class 'numpy.int64'> - 0\n",
      "[synthetic_dq_issues_count] - <class 'numpy.int64'> - 0\n",
      "[synthetic_dq_issues] - <class 'str'> - \n",
      "[synthetic_dq_issue_columns] - <class 'str'> - \n"
     ]
    }
   ],
   "source": [
    "print_cols_name_type(orig_data, 19386)"
   ]
  },
  {
   "cell_type": "code",
   "execution_count": 18,
   "metadata": {},
   "outputs": [
    {
     "name": "stdout",
     "output_type": "stream",
     "text": [
      "############## BEFORE ###################\n",
      "[product_category] - Women - Lingerie & Shapewear - Bras\n",
      "[has_synthetic_dq_issue] - 0\n",
      "[synthetic_dq_issues] - \n",
      "[synthetic_dq_issues_count] - 0\n",
      "[synthetic_dq_issue_columns] - \n",
      "############## AFTER ###################\n",
      "[product_category] - Headphones\n",
      "[has_synthetic_dq_issue] - 1\n",
      "[synthetic_dq_issues] - [product_category][Wrong categorization] Inadequate category.\n",
      "[synthetic_dq_issues_count] - 1\n",
      "[synthetic_dq_issue_columns] - product_category\n"
     ]
    }
   ],
   "source": [
    "create_dq_issue_at_index(orig_data, 19386, 'product_category', 'Headphones', \"[product_category][Wrong categorization] Inadequate category.\")"
   ]
  },
  {
   "cell_type": "markdown",
   "metadata": {},
   "source": [
    "#### E)"
   ]
  },
  {
   "cell_type": "code",
   "execution_count": 19,
   "metadata": {},
   "outputs": [
    {
     "name": "stdout",
     "output_type": "stream",
     "text": [
      "[product_name] - <class 'str'> - Retro Chic Wireless Bra 852186\n",
      "[mrp] - <class 'str'> - $58.00 \n",
      "[price] - <class 'str'> - $34.99 \n",
      "[pdp_url] - <class 'str'> - http://www1.macys.com/shop/product/wacoal-retro-chic-wireless-bra-852186?ID=2692399&CategoryID=65739\n",
      "[brand_name] - <class 'str'> - Wacoal\n",
      "[product_category] - <class 'str'> - Women - Lingerie & Shapewear - Designer Lingerie\n",
      "[retailer] - <class 'str'> - Macys US\n",
      "[description] - <class 'str'> - Slip on this comfortable and supportive bra from Wacoal, feauring a gorgeous sheer mesh lace overlay for a feminine touch.\n",
      "[rating] - <class 'numpy.float64'> - 3.9\n",
      "[review_count] - <class 'numpy.float64'> - 13.0\n",
      "[style_attributes] - <class 'str'> - [\"Adjustable, stretch straps\", \"Wireless, full coverage cups with sheer mesh and lace overlay\", \"Bow and jewel at center gore\", \"Leotard back with two-ply mesh\", \"Triple back hook-and-eye closure\", \"Nylon/spandex; lace: nylon\", \"Hand wash\", \"Imported\", \"Web ID: 2692399\"]\n",
      "[total_sizes] - <class 'str'> - [\"34B\", \"34C\", \"34D\", \"34DD\", \"34DDD\", \"34G\", \"34H\", \"36B\", \"36C\", \"36D\", \"36DD\", \"36DDD\", \"36G\", \"36H\", \"38B\", \"38C\", \"38D\", \"38DD\", \"38H\", \"40B\", \"40C\", \"40D\", \"40DD\", \"40DDD\", \"40G\", \"40H\", \"42D\", \"42DD\"]\n",
      "[available_size] - <class 'str'> - [\"34B\", \"34C\", \"34D\", \"34DD\", \"34DDD\", \"34G\", \"34H\", \"36B\"]\n",
      "[color] - <class 'str'> - Black\n",
      "[has_synthetic_dq_issue] - <class 'numpy.int64'> - 0\n",
      "[synthetic_dq_issues_count] - <class 'numpy.int64'> - 0\n",
      "[synthetic_dq_issues] - <class 'str'> - \n",
      "[synthetic_dq_issue_columns] - <class 'str'> - \n"
     ]
    }
   ],
   "source": [
    "print_cols_name_type(orig_data, 23346)"
   ]
  },
  {
   "cell_type": "code",
   "execution_count": 20,
   "metadata": {},
   "outputs": [
    {
     "name": "stdout",
     "output_type": "stream",
     "text": [
      "############## BEFORE ###################\n",
      "[pdp_url] - http://www1.macys.com/shop/product/wacoal-retro-chic-wireless-bra-852186?ID=2692399&CategoryID=65739\n",
      "[has_synthetic_dq_issue] - 0\n",
      "[synthetic_dq_issues] - \n",
      "[synthetic_dq_issues_count] - 0\n",
      "[synthetic_dq_issue_columns] - \n",
      "############## AFTER ###################\n",
      "[pdp_url] - http://www1.macys.uk/shop/product/wacoal-retro-chic-wireless-bra-852186?ID=2692399&amp;CategoryID=65739\n",
      "[has_synthetic_dq_issue] - 1\n",
      "[synthetic_dq_issues] - [pdp_url][Wrong domain URL] Product URL uses UK domain.\n",
      "[synthetic_dq_issues_count] - 1\n",
      "[synthetic_dq_issue_columns] - pdp_url\n"
     ]
    }
   ],
   "source": [
    "create_dq_issue_at_index(orig_data, 23346, 'pdp_url', 'http://www1.macys.uk/shop/product/wacoal-retro-chic-wireless-bra-852186?ID=2692399&amp;CategoryID=65739', \"[pdp_url][Wrong domain URL] Product URL uses UK domain.\")"
   ]
  },
  {
   "cell_type": "markdown",
   "metadata": {},
   "source": [
    "#### F)"
   ]
  },
  {
   "cell_type": "code",
   "execution_count": 21,
   "metadata": {},
   "outputs": [
    {
     "name": "stdout",
     "output_type": "stream",
     "text": [
      "[product_name] - <class 'str'> - Seductive Comfort Lace Demi Bra QF1444\n",
      "[mrp] - <class 'str'> - $46.00 \n",
      "[price] - <class 'str'> - $24.15 \n",
      "[pdp_url] - <class 'str'> - http://www1.macys.com/shop/product/calvin-klein-seductive-comfort-lace-demi-bra-qf1444?ID=2929187&CategoryID=65739\n",
      "[brand_name] - <class 'str'> - Calvin Klein\n",
      "[product_category] - <class 'str'> - Women - Lingerie & Shapewear - Designer Lingerie\n",
      "[retailer] - <class 'str'> - Macys US\n",
      "[description] - <class 'str'> - Lacy detailing adds a touch of elegance to this Seductive Comfort demi bra from Calvin Klein.\n",
      "[rating] - <class 'numpy.float64'> - 4.5\n",
      "[review_count] - <class 'numpy.float64'> - 2.0\n",
      "[style_attributes] - <class 'str'> - [\"Adjustable straps\", \"Lined, push-up, demi cups with lace trim\", \"Racerback straps convert two ways\", \"Lace wings\", \"Double hook-and-eye back closure\", \"Nylon/elastane\", \"Hand wash\", \"Imported\", \"Web ID: 2929187\", \"Halter strap at back neck\", \"Unlined, wireless cups\", \"Wide lace band under bust\", \"Pull-on style\", \"Cotton/elastane\", \"Hand wash\", \"Imported\"]\n",
      "[total_sizes] - <class 'str'> - [\"30C\", \"30D\", \"30DD\", \"32A\", \"32B\", \"32C\", \"32D\", \"32DD\", \"32DDD\", \"34A\", \"34B\", \"34C\", \"34D\", \"34DD\", \"34DDD\", \"36A\", \"36B\", \"36C\", \"36D\", \"36DD\", \"36DDD\", \"38C\", \"38D\", \"38DD\"]\n",
      "[available_size] - <class 'str'> - [\"32D\"]\n",
      "[color] - <class 'str'> - Regal Red\n",
      "[has_synthetic_dq_issue] - <class 'numpy.int64'> - 0\n",
      "[synthetic_dq_issues_count] - <class 'numpy.int64'> - 0\n",
      "[synthetic_dq_issues] - <class 'str'> - \n",
      "[synthetic_dq_issue_columns] - <class 'str'> - \n"
     ]
    }
   ],
   "source": [
    "print_cols_name_type(orig_data, 31346)"
   ]
  },
  {
   "cell_type": "code",
   "execution_count": 22,
   "metadata": {},
   "outputs": [
    {
     "name": "stdout",
     "output_type": "stream",
     "text": [
      "############## BEFORE ###################\n",
      "[price] - $24.15 \n",
      "[has_synthetic_dq_issue] - 0\n",
      "[synthetic_dq_issues] - \n",
      "[synthetic_dq_issues_count] - 0\n",
      "[synthetic_dq_issue_columns] - \n",
      "############## AFTER ###################\n",
      "[price] - $24,50\n",
      "[has_synthetic_dq_issue] - 1\n",
      "[synthetic_dq_issues] - [price][Format] Wrong currency separator.\n",
      "[synthetic_dq_issues_count] - 1\n",
      "[synthetic_dq_issue_columns] - price\n"
     ]
    }
   ],
   "source": [
    "create_dq_issue_at_index(orig_data, 31346, 'price', '$24,50', \"[price][Format] Wrong currency separator.\")"
   ]
  },
  {
   "cell_type": "markdown",
   "metadata": {},
   "source": [
    "#### G)"
   ]
  },
  {
   "cell_type": "code",
   "execution_count": 23,
   "metadata": {},
   "outputs": [
    {
     "name": "stdout",
     "output_type": "stream",
     "text": [
      "[product_name] - <class 'str'> - Low-Impact Logo Longline Bralette QF1567\n",
      "[mrp] - <class 'str'> - $36.00 \n",
      "[price] - <class 'str'> - $20.25 \n",
      "[pdp_url] - <class 'str'> - http://www1.macys.com/shop/product/calvin-klein-low-impact-logo-longline-bralette-qf1567?ID=2964366&CategoryID=55799\n",
      "[brand_name] - <class 'str'> - Calvin Klein\n",
      "[product_category] - <class 'str'> - Women - Lingerie & Shapewear - Bras\n",
      "[retailer] - <class 'str'> - Macys US\n",
      "[description] - <class 'str'> - A contrast logo is a chic touch to this comfortable, everyday bralette from Calvin Klein.\n",
      "[rating] - <class 'numpy.float64'> - 4.5\n",
      "[review_count] - <class 'numpy.float64'> - 6.0\n",
      "[style_attributes] - <class 'str'> - [\"Adjustable, multiway straps\", \"Unlined cups\", \"Elastic band under bust features logo\", \"Pull-on style, no closure\", \"Nylon/polyester/elastane\", \"Machine washable\", \"Imported\", \"Web ID: 2964366\"]\n",
      "[total_sizes] - <class 'str'> - [\"XS\", \"S\", \"M\", \"L\"]\n",
      "[available_size] - <class 'str'> - [\"XS\", \"M\", \"L\"]\n",
      "[color] - <class 'str'> - Grey Heather/Black Logo\n",
      "[has_synthetic_dq_issue] - <class 'numpy.int64'> - 0\n",
      "[synthetic_dq_issues_count] - <class 'numpy.int64'> - 0\n",
      "[synthetic_dq_issues] - <class 'str'> - \n",
      "[synthetic_dq_issue_columns] - <class 'str'> - \n"
     ]
    }
   ],
   "source": [
    "print_cols_name_type(orig_data, 4127)"
   ]
  },
  {
   "cell_type": "code",
   "execution_count": 24,
   "metadata": {},
   "outputs": [
    {
     "name": "stdout",
     "output_type": "stream",
     "text": [
      "############## BEFORE ###################\n",
      "[rating] - 4.5\n",
      "[has_synthetic_dq_issue] - 0\n",
      "[synthetic_dq_issues] - \n",
      "[synthetic_dq_issues_count] - 0\n",
      "[synthetic_dq_issue_columns] - \n",
      "############## AFTER ###################\n",
      "[rating] - 6.0\n",
      "[has_synthetic_dq_issue] - 1\n",
      "[synthetic_dq_issues] - [rating][OutOfRange] Rating value is out of range (6).\n",
      "[synthetic_dq_issues_count] - 1\n",
      "[synthetic_dq_issue_columns] - rating\n"
     ]
    }
   ],
   "source": [
    "create_dq_issue_at_index(orig_data, 4127, 'rating', '6', \"[rating][OutOfRange] Rating value is out of range (6).\")"
   ]
  },
  {
   "cell_type": "markdown",
   "metadata": {},
   "source": [
    "#### H)"
   ]
  },
  {
   "cell_type": "code",
   "execution_count": 25,
   "metadata": {},
   "outputs": [
    {
     "name": "stdout",
     "output_type": "stream",
     "text": [
      "[product_name] - <class 'str'> - Stark Beauty Rose-Lace Contour Bra 853225\n",
      "[mrp] - <class 'str'> - $68.00 \n",
      "[price] - <class 'str'> - $68.00 \n",
      "[pdp_url] - <class 'str'> - http://www1.macys.com/shop/product/wacoal-stark-beauty-rose-lace-contour-bra-853225?ID=4365414&CategoryID=65739\n",
      "[brand_name] - <class 'str'> - Wacoal\n",
      "[product_category] - <class 'str'> - Women - Lingerie & Shapewear - Designer Lingerie\n",
      "[retailer] - <class 'str'> - Macys US\n",
      "[description] - <class 'str'> - Create a smooth silhouette with the refined, abstract rose lace of the Stark Beauty bra from Wacoal.\n",
      "[rating] - <class 'numpy.float64'> - nan\n",
      "[review_count] - <class 'numpy.float64'> - nan\n",
      "[style_attributes] - <class 'str'> - [\"Split straps adjust at back\", \"Underwire, contour cups provide modesty and shaping\", \"Sheer mesh panels at sides and back\", \"Double hook-and-eye back closure\", \"Nylon/spandex\", \"Hand wash\", \"Imported\", \"Web ID: 4365414\"]\n",
      "[total_sizes] - <class 'str'> - [\"30D\", \"30DD\", \"30DDD\", \"32C\", \"32D\", \"32DD\", \"32DDD\", \"32G\", \"34B\", \"34C\", \"34D\", \"34DD\", \"34DDD\", \"34G\", \"36B\", \"36C\", \"36D\", \"36DD\", \"36DDD\", \"36G\", \"38B\", \"38C\", \"38D\", \"38DD\", \"38DDD\", \"38G\", \"40C\", \"40D\", \"40DD\", \"40DDD\"]\n",
      "[available_size] - <class 'str'> - [\"30D\", \"30DD\", \"30DDD\", \"32C\", \"32D\", \"32DD\", \"32DDD\", \"32G\"]\n",
      "[color] - <class 'str'> - Black\n",
      "[has_synthetic_dq_issue] - <class 'numpy.int64'> - 0\n",
      "[synthetic_dq_issues_count] - <class 'numpy.int64'> - 0\n",
      "[synthetic_dq_issues] - <class 'str'> - \n",
      "[synthetic_dq_issue_columns] - <class 'str'> - \n"
     ]
    }
   ],
   "source": [
    "print_cols_name_type(orig_data, 928)"
   ]
  },
  {
   "cell_type": "code",
   "execution_count": 26,
   "metadata": {},
   "outputs": [],
   "source": [
    "german_text = \"Deutsches Ipsum Dolor sit amet, Weltschmerz adipiscing elit, sed do eiusmod Flughafen incididunt ut labore et dolore Die unendliche Geschichte aliqua. Ut enim ad minim Käsefondue quis nostrud exercitation ullamco laboris Brezel ut aliquip ex ea commodo Currywurst Duis aute irure dolor in Müller Rice in voluptate velit esse cillum Deutschland eu fugiat nulla pariatur. Excepteur Vorsprung durch Technik occaecat cupidatat non proident, sunt Doppelscheren-Hubtischwagen culpa qui officia deserunt mollit Reinheitsgebot id est laborum\""
   ]
  },
  {
   "cell_type": "code",
   "execution_count": 27,
   "metadata": {},
   "outputs": [
    {
     "name": "stdout",
     "output_type": "stream",
     "text": [
      "############## BEFORE ###################\n",
      "[description] - Create a smooth silhouette with the refined, abstract rose lace of the Stark Beauty bra from Wacoal.\n",
      "[has_synthetic_dq_issue] - 0\n",
      "[synthetic_dq_issues] - \n",
      "[synthetic_dq_issues_count] - 0\n",
      "[synthetic_dq_issue_columns] - \n",
      "############## AFTER ###################\n",
      "[description] - Deutsches Ipsum Dolor sit amet, Weltschmerz adipiscing elit, sed do eiusmod Flughafen incididunt ut labore et dolore Die unendliche Geschichte aliqua. Ut enim ad minim Käsefondue quis nostrud exercitation ullamco laboris Brezel ut aliquip ex ea commodo Currywurst Duis aute irure dolor in Müller Rice in voluptate velit esse cillum Deutschland eu fugiat nulla pariatur. Excepteur Vorsprung durch Technik occaecat cupidatat non proident, sunt Doppelscheren-Hubtischwagen culpa qui officia deserunt mollit Reinheitsgebot id est laborum\n",
      "[has_synthetic_dq_issue] - 1\n",
      "[synthetic_dq_issues] - [description][Wrong language] The description is in German.\n",
      "[synthetic_dq_issues_count] - 1\n",
      "[synthetic_dq_issue_columns] - description\n"
     ]
    }
   ],
   "source": [
    "create_dq_issue_at_index(orig_data, 928, 'description', german_text, \"[description][Wrong language] The description is in German.\")"
   ]
  },
  {
   "cell_type": "markdown",
   "metadata": {},
   "source": [
    "#### I)"
   ]
  },
  {
   "cell_type": "code",
   "execution_count": 28,
   "metadata": {},
   "outputs": [
    {
     "name": "stdout",
     "output_type": "stream",
     "text": [
      "[product_name] - <class 'str'> - Stark Beauty Rose-Lace Contour Bra 853225\n",
      "[mrp] - <class 'str'> - $68.00 \n",
      "[price] - <class 'str'> - $68.00 \n",
      "[pdp_url] - <class 'str'> - http://www1.macys.com/shop/product/wacoal-stark-beauty-rose-lace-contour-bra-853225?ID=4365414&CategoryID=65739\n",
      "[brand_name] - <class 'str'> - Wacoal\n",
      "[product_category] - <class 'str'> - Women - Lingerie & Shapewear - Designer Lingerie\n",
      "[retailer] - <class 'str'> - Macys US\n",
      "[description] - <class 'str'> - Deutsches Ipsum Dolor sit amet, Weltschmerz adipiscing elit, sed do eiusmod Flughafen incididunt ut labore et dolore Die unendliche Geschichte aliqua. Ut enim ad minim Käsefondue quis nostrud exercitation ullamco laboris Brezel ut aliquip ex ea commodo Currywurst Duis aute irure dolor in Müller Rice in voluptate velit esse cillum Deutschland eu fugiat nulla pariatur. Excepteur Vorsprung durch Technik occaecat cupidatat non proident, sunt Doppelscheren-Hubtischwagen culpa qui officia deserunt mollit Reinheitsgebot id est laborum\n",
      "[rating] - <class 'numpy.float64'> - nan\n",
      "[review_count] - <class 'numpy.float64'> - nan\n",
      "[style_attributes] - <class 'str'> - [\"Split straps adjust at back\", \"Underwire, contour cups provide modesty and shaping\", \"Sheer mesh panels at sides and back\", \"Double hook-and-eye back closure\", \"Nylon/spandex\", \"Hand wash\", \"Imported\", \"Web ID: 4365414\"]\n",
      "[total_sizes] - <class 'str'> - [\"30D\", \"30DD\", \"30DDD\", \"32C\", \"32D\", \"32DD\", \"32DDD\", \"32G\", \"34B\", \"34C\", \"34D\", \"34DD\", \"34DDD\", \"34G\", \"36B\", \"36C\", \"36D\", \"36DD\", \"36DDD\", \"36G\", \"38B\", \"38C\", \"38D\", \"38DD\", \"38DDD\", \"38G\", \"40C\", \"40D\", \"40DD\", \"40DDD\"]\n",
      "[available_size] - <class 'str'> - [\"30D\", \"30DD\", \"30DDD\", \"32C\", \"32D\", \"32DD\", \"32DDD\", \"32G\"]\n",
      "[color] - <class 'str'> - Black\n",
      "[has_synthetic_dq_issue] - <class 'numpy.int64'> - 1\n",
      "[synthetic_dq_issues_count] - <class 'numpy.int64'> - 1\n",
      "[synthetic_dq_issues] - <class 'str'> - [description][Wrong language] The description is in German.\n",
      "[synthetic_dq_issue_columns] - <class 'str'> - description\n"
     ]
    }
   ],
   "source": [
    "print_cols_name_type(orig_data, 928)"
   ]
  },
  {
   "cell_type": "code",
   "execution_count": 29,
   "metadata": {},
   "outputs": [],
   "source": [
    "total_sizes_wrong_format = \"{\\\"32A\\\", \\\"32B\\\", \\\"32C\\\", \\\"32D\\\", \\\"32DD\\\", \\\"32DDD\\\", \\\"34A\\\", \\\"34B\\\", \\\"34C\\\", \\\"34D\\\", \\\"34DD\\\", \\\"34DDD\\\", \\\"36A\\\", \\\"36B\\\", \\\"36C\\\", \\\"36D\\\", \\\"36DD\\\", \\\"36DDD\\\", \\\"38A\\\", \\\"38B\\\", \\\"38C\\\", \\\"38D\\\", \\\"38DD\\\", \\\"38DDD\\\"}\""
   ]
  },
  {
   "cell_type": "code",
   "execution_count": 30,
   "metadata": {},
   "outputs": [
    {
     "name": "stdout",
     "output_type": "stream",
     "text": [
      "############## BEFORE ###################\n",
      "[total_sizes] - [\"30D\", \"30DD\", \"30DDD\", \"32C\", \"32D\", \"32DD\", \"32DDD\", \"32G\", \"34B\", \"34C\", \"34D\", \"34DD\", \"34DDD\", \"34G\", \"36B\", \"36C\", \"36D\", \"36DD\", \"36DDD\", \"36G\", \"38B\", \"38C\", \"38D\", \"38DD\", \"38DDD\", \"38G\", \"40C\", \"40D\", \"40DD\", \"40DDD\"]\n",
      "[has_synthetic_dq_issue] - 1\n",
      "[synthetic_dq_issues] - [description][Wrong language] The description is in German.\n",
      "[synthetic_dq_issues_count] - 1\n",
      "[synthetic_dq_issue_columns] - description\n",
      "############## AFTER ###################\n",
      "[total_sizes] - {\"32A\", \"32B\", \"32C\", \"32D\", \"32DD\", \"32DDD\", \"34A\", \"34B\", \"34C\", \"34D\", \"34DD\", \"34DDD\", \"36A\", \"36B\", \"36C\", \"36D\", \"36DD\", \"36DDD\", \"38A\", \"38B\", \"38C\", \"38D\", \"38DD\", \"38DDD\"}\n",
      "[has_synthetic_dq_issue] - 1\n",
      "[synthetic_dq_issues] - [description][Wrong language] The description is in German.; [total_sizes][Wrong format] Curly braces instead of square brackets.\n",
      "[synthetic_dq_issues_count] - 2\n",
      "[synthetic_dq_issue_columns] - description; total_sizes\n"
     ]
    }
   ],
   "source": [
    "create_dq_issue_at_index(orig_data, 928, 'total_sizes', total_sizes_wrong_format, \"[total_sizes][Wrong format] Curly braces instead of square brackets.\", True)"
   ]
  },
  {
   "cell_type": "markdown",
   "metadata": {},
   "source": [
    "#### J)"
   ]
  },
  {
   "cell_type": "code",
   "execution_count": 31,
   "metadata": {},
   "outputs": [
    {
     "name": "stdout",
     "output_type": "stream",
     "text": [
      "[product_name] - <class 'str'> - Modern Logo Pants D1632\n",
      "[mrp] - <class 'str'> - $46.00 \n",
      "[price] - <class 'str'> - $46.00 \n",
      "[pdp_url] - <class 'str'> - http://www1.macys.com/shop/product/calvin-klein-modern-logo-pants-d1632?ID=2926654&CategoryID=65739\n",
      "[brand_name] - <class 'str'> - Calvin Klein\n",
      "[product_category] - <class 'str'> - Women - Lingerie & Shapewear - Designer Lingerie\n",
      "[retailer] - <class 'str'> - Macys US\n",
      "[description] - <class 'str'> - Comfy and low-key, these Modern pants from Calvin Klein are the perfect layering piece for almost any occasion.\n",
      "[rating] - <class 'numpy.float64'> - 5.0\n",
      "[review_count] - <class 'numpy.float64'> - 1.0\n",
      "[style_attributes] - <class 'str'> - [\"Wide elastic waistband features logo\", \"Full length\", \"Cotton/modal/elastane\", \"Machine washable\", \"Imported\", \"Web ID: 2926654\"]\n",
      "[total_sizes] - <class 'str'> - [\"S\", \"M\", \"L\"]\n",
      "[available_size] - <class 'str'> - [\"S\", \"M\", \"L\"]\n",
      "[color] - <class 'str'> - Black\n",
      "[has_synthetic_dq_issue] - <class 'numpy.int64'> - 0\n",
      "[synthetic_dq_issues_count] - <class 'numpy.int64'> - 0\n",
      "[synthetic_dq_issues] - <class 'str'> - \n",
      "[synthetic_dq_issue_columns] - <class 'str'> - \n"
     ]
    }
   ],
   "source": [
    "print_cols_name_type(orig_data, 50)"
   ]
  },
  {
   "cell_type": "code",
   "execution_count": 32,
   "metadata": {},
   "outputs": [
    {
     "name": "stdout",
     "output_type": "stream",
     "text": [
      "############## BEFORE ###################\n",
      "[brand_name] - Calvin Klein\n",
      "[has_synthetic_dq_issue] - 0\n",
      "[synthetic_dq_issues] - \n",
      "[synthetic_dq_issues_count] - 0\n",
      "[synthetic_dq_issue_columns] - \n",
      "############## AFTER ###################\n",
      "[brand_name] - Coca-Cola\n",
      "[has_synthetic_dq_issue] - 1\n",
      "[synthetic_dq_issues] - [brand_name][Wrong information] Product name that does not give contextual meaning.\n",
      "[synthetic_dq_issues_count] - 1\n",
      "[synthetic_dq_issue_columns] - brand_name\n"
     ]
    }
   ],
   "source": [
    "create_dq_issue_at_index(orig_data, 50, 'brand_name', 'Coca-Cola', \"[brand_name][Wrong information] Product name that does not give contextual meaning.\")"
   ]
  },
  {
   "cell_type": "markdown",
   "metadata": {},
   "source": [
    "#### K)"
   ]
  },
  {
   "cell_type": "code",
   "execution_count": 33,
   "metadata": {},
   "outputs": [
    {
     "name": "stdout",
     "output_type": "stream",
     "text": [
      "[product_name] - <class 'str'> - Modern Logo Pants D1632\n",
      "[mrp] - <class 'str'> - $46.00 \n",
      "[price] - <class 'str'> - $46.00 \n",
      "[pdp_url] - <class 'str'> - http://www1.macys.com/shop/product/calvin-klein-modern-logo-pants-d1632?ID=2926654&CategoryID=65739\n",
      "[brand_name] - <class 'str'> - Coca-Cola\n",
      "[product_category] - <class 'str'> - Women - Lingerie & Shapewear - Designer Lingerie\n",
      "[retailer] - <class 'str'> - Macys US\n",
      "[description] - <class 'str'> - Comfy and low-key, these Modern pants from Calvin Klein are the perfect layering piece for almost any occasion.\n",
      "[rating] - <class 'numpy.float64'> - 5.0\n",
      "[review_count] - <class 'numpy.float64'> - 1.0\n",
      "[style_attributes] - <class 'str'> - [\"Wide elastic waistband features logo\", \"Full length\", \"Cotton/modal/elastane\", \"Machine washable\", \"Imported\", \"Web ID: 2926654\"]\n",
      "[total_sizes] - <class 'str'> - [\"S\", \"M\", \"L\"]\n",
      "[available_size] - <class 'str'> - [\"S\", \"M\", \"L\"]\n",
      "[color] - <class 'str'> - Black\n",
      "[has_synthetic_dq_issue] - <class 'numpy.int64'> - 1\n",
      "[synthetic_dq_issues_count] - <class 'numpy.int64'> - 1\n",
      "[synthetic_dq_issues] - <class 'str'> - [brand_name][Wrong information] Product name that does not give contextual meaning.\n",
      "[synthetic_dq_issue_columns] - <class 'str'> - brand_name\n"
     ]
    }
   ],
   "source": [
    "print_cols_name_type(orig_data, 50)"
   ]
  },
  {
   "cell_type": "code",
   "execution_count": 34,
   "metadata": {},
   "outputs": [
    {
     "name": "stdout",
     "output_type": "stream",
     "text": [
      "############## BEFORE ###################\n",
      "[price] - $46.00 \n",
      "[has_synthetic_dq_issue] - 1\n",
      "[synthetic_dq_issues] - [brand_name][Wrong information] Product name that does not give contextual meaning.\n",
      "[synthetic_dq_issues_count] - 1\n",
      "[synthetic_dq_issue_columns] - brand_name\n",
      "############## AFTER ###################\n",
      "[price] - £16.50\n",
      "[has_synthetic_dq_issue] - 1\n",
      "[synthetic_dq_issues] - [brand_name][Wrong information] Product name that does not give contextual meaning.; [price][Wrong format] Wrong currency.\n",
      "[synthetic_dq_issues_count] - 2\n",
      "[synthetic_dq_issue_columns] - brand_name; price\n"
     ]
    }
   ],
   "source": [
    "create_dq_issue_at_index(orig_data, 50, 'price', '£16.50', \"[price][Wrong format] Wrong currency.\", True)"
   ]
  },
  {
   "cell_type": "code",
   "execution_count": 35,
   "metadata": {},
   "outputs": [
    {
     "name": "stdout",
     "output_type": "stream",
     "text": [
      "[product_name] - <class 'str'> - Modern Logo Pants D1632\n",
      "[mrp] - <class 'str'> - $46.00 \n",
      "[price] - <class 'str'> - £16.50\n",
      "[pdp_url] - <class 'str'> - http://www1.macys.com/shop/product/calvin-klein-modern-logo-pants-d1632?ID=2926654&CategoryID=65739\n",
      "[brand_name] - <class 'str'> - Coca-Cola\n",
      "[product_category] - <class 'str'> - Women - Lingerie & Shapewear - Designer Lingerie\n",
      "[retailer] - <class 'str'> - Macys US\n",
      "[description] - <class 'str'> - Comfy and low-key, these Modern pants from Calvin Klein are the perfect layering piece for almost any occasion.\n",
      "[rating] - <class 'numpy.float64'> - 5.0\n",
      "[review_count] - <class 'numpy.float64'> - 1.0\n",
      "[style_attributes] - <class 'str'> - [\"Wide elastic waistband features logo\", \"Full length\", \"Cotton/modal/elastane\", \"Machine washable\", \"Imported\", \"Web ID: 2926654\"]\n",
      "[total_sizes] - <class 'str'> - [\"S\", \"M\", \"L\"]\n",
      "[available_size] - <class 'str'> - [\"S\", \"M\", \"L\"]\n",
      "[color] - <class 'str'> - Black\n",
      "[has_synthetic_dq_issue] - <class 'numpy.int64'> - 1\n",
      "[synthetic_dq_issues_count] - <class 'numpy.int64'> - 2\n",
      "[synthetic_dq_issues] - <class 'str'> - [brand_name][Wrong information] Product name that does not give contextual meaning.; [price][Wrong format] Wrong currency.\n",
      "[synthetic_dq_issue_columns] - <class 'str'> - brand_name; price\n"
     ]
    }
   ],
   "source": [
    "print_cols_name_type(orig_data, 50)"
   ]
  },
  {
   "cell_type": "markdown",
   "metadata": {},
   "source": [
    "#### L)"
   ]
  },
  {
   "cell_type": "code",
   "execution_count": 36,
   "metadata": {},
   "outputs": [
    {
     "name": "stdout",
     "output_type": "stream",
     "text": [
      "[product_name] - <class 'str'> - CK One Logo Thong QF1368\n",
      "[mrp] - <class 'str'> - $20.00 \n",
      "[price] - <class 'str'> - $20.00 \n",
      "[pdp_url] - <class 'str'> - http://www1.macys.com/shop/product/calvin-klein-ck-one-logo-thong-qf1368?ID=4548343&CategoryID=65739\n",
      "[brand_name] - <class 'str'> - Calvin Klein\n",
      "[product_category] - <class 'str'> - Women - Lingerie & Shapewear - Designer Lingerie\n",
      "[retailer] - <class 'str'> - Macys US\n",
      "[description] - <class 'str'> - Calvin Klein's sleek thong is a classic look that puts comfort first.\n",
      "[rating] - <class 'numpy.float64'> - nan\n",
      "[review_count] - <class 'numpy.float64'> - nan\n",
      "[style_attributes] - <class 'str'> - [\"Elastic waistband \", \"Contrast at waist with repeating logo\", \"Lined at gusset\", \"Cotton/elastane\", \"Hand wash\", \"Imported\", \"Web ID: 4548343\"]\n",
      "[total_sizes] - <class 'str'> - [\"S\", \"M\", \"L\"]\n",
      "[available_size] - <class 'str'> - [\"S\", \"M\", \"L\"]\n",
      "[color] - <class 'str'> - Desert Sunset\n",
      "[has_synthetic_dq_issue] - <class 'numpy.int64'> - 0\n",
      "[synthetic_dq_issues_count] - <class 'numpy.int64'> - 0\n",
      "[synthetic_dq_issues] - <class 'str'> - \n",
      "[synthetic_dq_issue_columns] - <class 'str'> - \n"
     ]
    }
   ],
   "source": [
    "print_cols_name_type(orig_data, 129)"
   ]
  },
  {
   "cell_type": "code",
   "execution_count": 37,
   "metadata": {},
   "outputs": [
    {
     "name": "stdout",
     "output_type": "stream",
     "text": [
      "############## BEFORE ###################\n",
      "[price] - $20.00 \n",
      "[has_synthetic_dq_issue] - 0\n",
      "[synthetic_dq_issues] - \n",
      "[synthetic_dq_issues_count] - 0\n",
      "[synthetic_dq_issue_columns] - \n",
      "############## AFTER ###################\n",
      "[price] - $16\n",
      "[has_synthetic_dq_issue] - 1\n",
      "[synthetic_dq_issues] - [price][Wrong format] Missing floating point.\n",
      "[synthetic_dq_issues_count] - 1\n",
      "[synthetic_dq_issue_columns] - price\n"
     ]
    }
   ],
   "source": [
    "create_dq_issue_at_index(orig_data, 129, 'price', '$16', \"[price][Wrong format] Missing floating point.\")"
   ]
  },
  {
   "cell_type": "code",
   "execution_count": 38,
   "metadata": {},
   "outputs": [
    {
     "name": "stdout",
     "output_type": "stream",
     "text": [
      "[product_name] - <class 'str'> - CK One Logo Thong QF1368\n",
      "[mrp] - <class 'str'> - $20.00 \n",
      "[price] - <class 'str'> - $16\n",
      "[pdp_url] - <class 'str'> - http://www1.macys.com/shop/product/calvin-klein-ck-one-logo-thong-qf1368?ID=4548343&CategoryID=65739\n",
      "[brand_name] - <class 'str'> - Calvin Klein\n",
      "[product_category] - <class 'str'> - Women - Lingerie & Shapewear - Designer Lingerie\n",
      "[retailer] - <class 'str'> - Macys US\n",
      "[description] - <class 'str'> - Calvin Klein's sleek thong is a classic look that puts comfort first.\n",
      "[rating] - <class 'numpy.float64'> - nan\n",
      "[review_count] - <class 'numpy.float64'> - nan\n",
      "[style_attributes] - <class 'str'> - [\"Elastic waistband \", \"Contrast at waist with repeating logo\", \"Lined at gusset\", \"Cotton/elastane\", \"Hand wash\", \"Imported\", \"Web ID: 4548343\"]\n",
      "[total_sizes] - <class 'str'> - [\"S\", \"M\", \"L\"]\n",
      "[available_size] - <class 'str'> - [\"S\", \"M\", \"L\"]\n",
      "[color] - <class 'str'> - Desert Sunset\n",
      "[has_synthetic_dq_issue] - <class 'numpy.int64'> - 1\n",
      "[synthetic_dq_issues_count] - <class 'numpy.int64'> - 1\n",
      "[synthetic_dq_issues] - <class 'str'> - [price][Wrong format] Missing floating point.\n",
      "[synthetic_dq_issue_columns] - <class 'str'> - price\n"
     ]
    }
   ],
   "source": [
    "print_cols_name_type(orig_data, 129)"
   ]
  },
  {
   "cell_type": "markdown",
   "metadata": {},
   "source": [
    "#### M)"
   ]
  },
  {
   "cell_type": "code",
   "execution_count": 39,
   "metadata": {},
   "outputs": [
    {
     "name": "stdout",
     "output_type": "stream",
     "text": [
      "[product_name] - <class 'str'> - b.provocative Contrast-Lace Bra 951222\n",
      "[mrp] - <class 'str'> - $40.00 \n",
      "[price] - <class 'str'> - $22.50 \n",
      "[pdp_url] - <class 'str'> - http://www1.macys.com/shop/product/b.temptd-by-wacoal-b.provocative-contrast-lace-bra-951222?ID=4461281&CategoryID=55799\n",
      "[brand_name] - <class 'str'> - b.tempt'd by Wacoal\n",
      "[product_category] - <class 'str'> - Women - Lingerie & Shapewear - Bras\n",
      "[retailer] - <class 'str'> - Macys US\n",
      "[description] - <class 'str'> - Flattering sheer nude panels are decorated with intricate lacework to create a memorable figure in the b.provocative bra from b.tempt'd by Wacoal.\n",
      "[rating] - <class 'numpy.float64'> - nan\n",
      "[review_count] - <class 'numpy.float64'> - nan\n",
      "[style_attributes] - <class 'str'> - [\"Adjustable straps\", \"Delicate elastic at neckline creates illusion of open window\", \"Sheer, underwire cups\", \"Double hook-and-eye back closure\", \"Nylon/spandex\", \"Hand wash\", \"Imported\", \"Web ID: 4461281\"]\n",
      "[total_sizes] - <class 'str'> - [\"32C\", \"32D\", \"34B\", \"34C\", \"34D\", \"36B\", \"36C\"]\n",
      "[available_size] - <class 'str'> - [\"32C\", \"32D\", \"34B\", \"34C\", \"34D\", \"36B\", \"36C\"]\n",
      "[color] - <class 'str'> - Marine\n",
      "[has_synthetic_dq_issue] - <class 'numpy.int64'> - 0\n",
      "[synthetic_dq_issues_count] - <class 'numpy.int64'> - 0\n",
      "[synthetic_dq_issues] - <class 'str'> - \n",
      "[synthetic_dq_issue_columns] - <class 'str'> - \n"
     ]
    }
   ],
   "source": [
    "print_cols_name_type(orig_data, 1291)"
   ]
  },
  {
   "cell_type": "code",
   "execution_count": 40,
   "metadata": {},
   "outputs": [
    {
     "name": "stdout",
     "output_type": "stream",
     "text": [
      "############## BEFORE ###################\n",
      "[price] - $22.50 \n",
      "[has_synthetic_dq_issue] - 0\n",
      "[synthetic_dq_issues] - \n",
      "[synthetic_dq_issues_count] - 0\n",
      "[synthetic_dq_issue_columns] - \n",
      "############## AFTER ###################\n",
      "[price] - $0.0\n",
      "[has_synthetic_dq_issue] - 1\n",
      "[synthetic_dq_issues] - [price][Suspicious value] Misleading price.\n",
      "[synthetic_dq_issues_count] - 1\n",
      "[synthetic_dq_issue_columns] - price\n"
     ]
    }
   ],
   "source": [
    "create_dq_issue_at_index(orig_data, 1291, 'price', '$0.0', \"[price][Suspicious value] Misleading price.\")"
   ]
  },
  {
   "cell_type": "code",
   "execution_count": 41,
   "metadata": {},
   "outputs": [
    {
     "name": "stdout",
     "output_type": "stream",
     "text": [
      "[product_name] - <class 'str'> - b.provocative Contrast-Lace Bra 951222\n",
      "[mrp] - <class 'str'> - $40.00 \n",
      "[price] - <class 'str'> - $0.0\n",
      "[pdp_url] - <class 'str'> - http://www1.macys.com/shop/product/b.temptd-by-wacoal-b.provocative-contrast-lace-bra-951222?ID=4461281&CategoryID=55799\n",
      "[brand_name] - <class 'str'> - b.tempt'd by Wacoal\n",
      "[product_category] - <class 'str'> - Women - Lingerie & Shapewear - Bras\n",
      "[retailer] - <class 'str'> - Macys US\n",
      "[description] - <class 'str'> - Flattering sheer nude panels are decorated with intricate lacework to create a memorable figure in the b.provocative bra from b.tempt'd by Wacoal.\n",
      "[rating] - <class 'numpy.float64'> - nan\n",
      "[review_count] - <class 'numpy.float64'> - nan\n",
      "[style_attributes] - <class 'str'> - [\"Adjustable straps\", \"Delicate elastic at neckline creates illusion of open window\", \"Sheer, underwire cups\", \"Double hook-and-eye back closure\", \"Nylon/spandex\", \"Hand wash\", \"Imported\", \"Web ID: 4461281\"]\n",
      "[total_sizes] - <class 'str'> - [\"32C\", \"32D\", \"34B\", \"34C\", \"34D\", \"36B\", \"36C\"]\n",
      "[available_size] - <class 'str'> - [\"32C\", \"32D\", \"34B\", \"34C\", \"34D\", \"36B\", \"36C\"]\n",
      "[color] - <class 'str'> - Marine\n",
      "[has_synthetic_dq_issue] - <class 'numpy.int64'> - 1\n",
      "[synthetic_dq_issues_count] - <class 'numpy.int64'> - 1\n",
      "[synthetic_dq_issues] - <class 'str'> - [price][Suspicious value] Misleading price.\n",
      "[synthetic_dq_issue_columns] - <class 'str'> - price\n"
     ]
    }
   ],
   "source": [
    "print_cols_name_type(orig_data, 1291)"
   ]
  },
  {
   "cell_type": "markdown",
   "metadata": {},
   "source": [
    "#### N)"
   ]
  },
  {
   "cell_type": "code",
   "execution_count": 42,
   "metadata": {},
   "outputs": [
    {
     "name": "stdout",
     "output_type": "stream",
     "text": [
      "[product_name] - <class 'str'> - Lace Kiss Thong 3-Pack 976282\n",
      "[mrp] - <class 'str'> - $33.00 \n",
      "[price] - <class 'str'> - $33.00 \n",
      "[pdp_url] - <class 'str'> - http://www1.macys.com/shop/product/b.temptd-by-wacoal-lace-kiss-thong-3-pack-976282?ID=2687057&CategoryID=65739\n",
      "[brand_name] - <class 'str'> - b.tempt'd by Wacoal\n",
      "[product_category] - <class 'str'> - Women - Lingerie & Shapewear - Designer Lingerie\n",
      "[retailer] - <class 'str'> - Macys US\n",
      "[description] - <class 'str'> - Tap into your softer side with this 3-pack of gorgeous, ultra-feminine lace thongs from b.tempt'd by Wacoal.\n",
      "[rating] - <class 'numpy.float64'> - nan\n",
      "[review_count] - <class 'numpy.float64'> - nan\n",
      "[style_attributes] - <class 'str'> - [\"Lace waistband\", \"Comes in a pack of 3\", \"Lined at gusset\", \"Nylon/spandex; gusset: cotton\", \"Hand wash\", \"Imported\", \"Web ID: 2687057\"]\n",
      "[total_sizes] - <class 'str'> - [\"S\", \"M\", \"L\", \"XL\"]\n",
      "[available_size] - <class 'str'> - [\"S\", \"M\"]\n",
      "[color] - <class 'str'> - Peacoat/Cherry Tomato/Lime\n",
      "[has_synthetic_dq_issue] - <class 'numpy.int64'> - 0\n",
      "[synthetic_dq_issues_count] - <class 'numpy.int64'> - 0\n",
      "[synthetic_dq_issues] - <class 'str'> - \n",
      "[synthetic_dq_issue_columns] - <class 'str'> - \n"
     ]
    }
   ],
   "source": [
    "print_cols_name_type(orig_data, 14121)"
   ]
  },
  {
   "cell_type": "code",
   "execution_count": 43,
   "metadata": {},
   "outputs": [
    {
     "name": "stdout",
     "output_type": "stream",
     "text": [
      "############## BEFORE ###################\n",
      "[rating] - nan\n",
      "[has_synthetic_dq_issue] - 0\n",
      "[synthetic_dq_issues] - \n",
      "[synthetic_dq_issues_count] - 0\n",
      "[synthetic_dq_issue_columns] - \n",
      "############## AFTER ###################\n",
      "[rating] - 9.0\n",
      "[has_synthetic_dq_issue] - 1\n",
      "[synthetic_dq_issues] - [rating][OutOfRange] Rating value is out of range (9.0).\n",
      "[synthetic_dq_issues_count] - 1\n",
      "[synthetic_dq_issue_columns] - rating\n"
     ]
    }
   ],
   "source": [
    "create_dq_issue_at_index(orig_data, 14121, 'rating', '9.0', \"[rating][OutOfRange] Rating value is out of range (9.0).\")"
   ]
  },
  {
   "cell_type": "code",
   "execution_count": 44,
   "metadata": {},
   "outputs": [
    {
     "name": "stdout",
     "output_type": "stream",
     "text": [
      "[product_name] - <class 'str'> - Lace Kiss Thong 3-Pack 976282\n",
      "[mrp] - <class 'str'> - $33.00 \n",
      "[price] - <class 'str'> - $33.00 \n",
      "[pdp_url] - <class 'str'> - http://www1.macys.com/shop/product/b.temptd-by-wacoal-lace-kiss-thong-3-pack-976282?ID=2687057&CategoryID=65739\n",
      "[brand_name] - <class 'str'> - b.tempt'd by Wacoal\n",
      "[product_category] - <class 'str'> - Women - Lingerie & Shapewear - Designer Lingerie\n",
      "[retailer] - <class 'str'> - Macys US\n",
      "[description] - <class 'str'> - Tap into your softer side with this 3-pack of gorgeous, ultra-feminine lace thongs from b.tempt'd by Wacoal.\n",
      "[rating] - <class 'numpy.float64'> - 9.0\n",
      "[review_count] - <class 'numpy.float64'> - nan\n",
      "[style_attributes] - <class 'str'> - [\"Lace waistband\", \"Comes in a pack of 3\", \"Lined at gusset\", \"Nylon/spandex; gusset: cotton\", \"Hand wash\", \"Imported\", \"Web ID: 2687057\"]\n",
      "[total_sizes] - <class 'str'> - [\"S\", \"M\", \"L\", \"XL\"]\n",
      "[available_size] - <class 'str'> - [\"S\", \"M\"]\n",
      "[color] - <class 'str'> - Peacoat/Cherry Tomato/Lime\n",
      "[has_synthetic_dq_issue] - <class 'numpy.int64'> - 1\n",
      "[synthetic_dq_issues_count] - <class 'numpy.int64'> - 1\n",
      "[synthetic_dq_issues] - <class 'str'> - [rating][OutOfRange] Rating value is out of range (9.0).\n",
      "[synthetic_dq_issue_columns] - <class 'str'> - rating\n"
     ]
    }
   ],
   "source": [
    "print_cols_name_type(orig_data, 14121)"
   ]
  },
  {
   "cell_type": "markdown",
   "metadata": {},
   "source": [
    "#### O)"
   ]
  },
  {
   "cell_type": "code",
   "execution_count": 45,
   "metadata": {},
   "outputs": [
    {
     "name": "stdout",
     "output_type": "stream",
     "text": [
      "[product_name] - <class 'str'> - Visual Effects Minimizer Bra 857210\n",
      "[mrp] - <class 'str'> - $65.00 \n",
      "[price] - <class 'str'> - $65.00 \n",
      "[pdp_url] - <class 'str'> - http://www1.macys.com/shop/product/wacoal-visual-effects-minimizer-bra-857210?ID=2135112&CategoryID=65739\n",
      "[brand_name] - <class 'str'> - Wacoal\n",
      "[product_category] - <class 'str'> - Women - Lingerie & Shapewear - Designer Lingerie\n",
      "[retailer] - <class 'str'> - Macys US\n",
      "[description] - <class 'str'> - Get the support you've been looking for with the Visual Effects Minimizer Bra by Wacoal. Style #857210\n",
      "[rating] - <class 'numpy.float64'> - 4.2\n",
      "[review_count] - <class 'numpy.float64'> - 27.0\n",
      "[style_attributes] - <class 'str'> - [\"Fully-adjustable straps \", \"Molded engineered pattern\", \"Unlined underwire cups with sheer mesh lining\", \"Double back hook-and-eye closure\", \"Spandex/nylon\", \"Hand wash\", \"Imported\", \"Web ID: 2135112\"]\n",
      "[total_sizes] - <class 'str'> - [\"32D\", \"32DD\", \"32DDD\", \"32G\", \"32H\", \"34C\", \"34D\", \"34DD\", \"34DDD\", \"34G\", \"34H\", \"36C\", \"36D\", \"36DD\", \"36DDD\", \"36G\", \"36H\", \"38C\", \"38D\", \"38DD\", \"38DDD\", \"38G\", \"38H\", \"40C\", \"40D\", \"40DD\", \"40DDD\", \"40G\", \"42C\", \"42D\", \"42DD\", \"42DDD\", \"42G\", \"44C\", \"44D\", \"44DD\", \"44DDD\"]\n",
      "[available_size] - <class 'str'> - [\"32D\", \"32DD\", \"32DDD\", \"32G\", \"32H\", \"34C\", \"34D\", \"34DD\"]\n",
      "[color] - <class 'str'> - Sand\n",
      "[has_synthetic_dq_issue] - <class 'numpy.int64'> - 0\n",
      "[synthetic_dq_issues_count] - <class 'numpy.int64'> - 0\n",
      "[synthetic_dq_issues] - <class 'str'> - \n",
      "[synthetic_dq_issue_columns] - <class 'str'> - \n"
     ]
    }
   ],
   "source": [
    "print_cols_name_type(orig_data, 17141)"
   ]
  },
  {
   "cell_type": "code",
   "execution_count": 46,
   "metadata": {},
   "outputs": [
    {
     "name": "stdout",
     "output_type": "stream",
     "text": [
      "############## BEFORE ###################\n",
      "[description] - Get the support you've been looking for with the Visual Effects Minimizer Bra by Wacoal. Style #857210\n",
      "[has_synthetic_dq_issue] - 0\n",
      "[synthetic_dq_issues] - \n",
      "[synthetic_dq_issues_count] - 0\n",
      "[synthetic_dq_issue_columns] - \n",
      "############## AFTER ###################\n",
      "[description] - Short desc.\n",
      "[has_synthetic_dq_issue] - 1\n",
      "[synthetic_dq_issues] - [description][Incomplete information] Very short description.\n",
      "[synthetic_dq_issues_count] - 1\n",
      "[synthetic_dq_issue_columns] - description\n"
     ]
    }
   ],
   "source": [
    "create_dq_issue_at_index(orig_data, 17141, 'description', 'Short desc.', \"[description][Incomplete information] Very short description.\")"
   ]
  },
  {
   "cell_type": "code",
   "execution_count": 47,
   "metadata": {},
   "outputs": [
    {
     "name": "stdout",
     "output_type": "stream",
     "text": [
      "[product_name] - <class 'str'> - Visual Effects Minimizer Bra 857210\n",
      "[mrp] - <class 'str'> - $65.00 \n",
      "[price] - <class 'str'> - $65.00 \n",
      "[pdp_url] - <class 'str'> - http://www1.macys.com/shop/product/wacoal-visual-effects-minimizer-bra-857210?ID=2135112&CategoryID=65739\n",
      "[brand_name] - <class 'str'> - Wacoal\n",
      "[product_category] - <class 'str'> - Women - Lingerie & Shapewear - Designer Lingerie\n",
      "[retailer] - <class 'str'> - Macys US\n",
      "[description] - <class 'str'> - Short desc.\n",
      "[rating] - <class 'numpy.float64'> - 4.2\n",
      "[review_count] - <class 'numpy.float64'> - 27.0\n",
      "[style_attributes] - <class 'str'> - [\"Fully-adjustable straps \", \"Molded engineered pattern\", \"Unlined underwire cups with sheer mesh lining\", \"Double back hook-and-eye closure\", \"Spandex/nylon\", \"Hand wash\", \"Imported\", \"Web ID: 2135112\"]\n",
      "[total_sizes] - <class 'str'> - [\"32D\", \"32DD\", \"32DDD\", \"32G\", \"32H\", \"34C\", \"34D\", \"34DD\", \"34DDD\", \"34G\", \"34H\", \"36C\", \"36D\", \"36DD\", \"36DDD\", \"36G\", \"36H\", \"38C\", \"38D\", \"38DD\", \"38DDD\", \"38G\", \"38H\", \"40C\", \"40D\", \"40DD\", \"40DDD\", \"40G\", \"42C\", \"42D\", \"42DD\", \"42DDD\", \"42G\", \"44C\", \"44D\", \"44DD\", \"44DDD\"]\n",
      "[available_size] - <class 'str'> - [\"32D\", \"32DD\", \"32DDD\", \"32G\", \"32H\", \"34C\", \"34D\", \"34DD\"]\n",
      "[color] - <class 'str'> - Sand\n",
      "[has_synthetic_dq_issue] - <class 'numpy.int64'> - 1\n",
      "[synthetic_dq_issues_count] - <class 'numpy.int64'> - 1\n",
      "[synthetic_dq_issues] - <class 'str'> - [description][Incomplete information] Very short description.\n",
      "[synthetic_dq_issue_columns] - <class 'str'> - description\n"
     ]
    }
   ],
   "source": [
    "print_cols_name_type(orig_data, 17141)"
   ]
  },
  {
   "cell_type": "markdown",
   "metadata": {},
   "source": [
    "#### P)"
   ]
  },
  {
   "cell_type": "code",
   "execution_count": 48,
   "metadata": {},
   "outputs": [
    {
     "name": "stdout",
     "output_type": "stream",
     "text": [
      "[product_name] - <class 'str'> - Plus Size Printed Signature Lace Vikini\n",
      "[mrp] - <class 'str'> - $45.00 \n",
      "[price] - <class 'str'> - $45.00 \n",
      "[pdp_url] - <class 'str'> - http://www1.macys.com/shop/product/hanky-panky-plus-size-printed-signature-lace-vikini?ID=2944192&CategoryID=65739\n",
      "[brand_name] - <class 'str'> - Hanky Panky\n",
      "[product_category] - <class 'str'> - Women - Lingerie & Shapewear - Designer Lingerie\n",
      "[retailer] - <class 'str'> - Macys US\n",
      "[description] - <class 'str'> - A gorgeous, lush floral design is the perfect finishing touch for this lacy plus size vikini from Hanky Panky.\n",
      "[rating] - <class 'numpy.float64'> - nan\n",
      "[review_count] - <class 'numpy.float64'> - nan\n",
      "[style_attributes] - <class 'str'> - [\"High waist\", \"Soft, stretch Signature lace\", \"Scallop trim at leg openings\", \"Lined at gusset\", \"Nylon/spandex; gusset: cotton\", \"Hand wash\", \"Made in USA\", \"Web ID: 2944192\"]\n",
      "[total_sizes] - <class 'str'> - [\"1X\", \"2X\"]\n",
      "[available_size] - <class 'str'> - [\"1X\", \"2X\"]\n",
      "[color] - <class 'str'> - Red\n",
      "[has_synthetic_dq_issue] - <class 'numpy.int64'> - 0\n",
      "[synthetic_dq_issues_count] - <class 'numpy.int64'> - 0\n",
      "[synthetic_dq_issues] - <class 'str'> - \n",
      "[synthetic_dq_issue_columns] - <class 'str'> - \n"
     ]
    }
   ],
   "source": [
    "print_cols_name_type(orig_data, 37141)"
   ]
  },
  {
   "cell_type": "code",
   "execution_count": 49,
   "metadata": {},
   "outputs": [
    {
     "name": "stdout",
     "output_type": "stream",
     "text": [
      "############## BEFORE ###################\n",
      "[retailer] - Macys US\n",
      "[has_synthetic_dq_issue] - 0\n",
      "[synthetic_dq_issues] - \n",
      "[synthetic_dq_issues_count] - 0\n",
      "[synthetic_dq_issue_columns] - \n",
      "############## AFTER ###################\n",
      "[retailer] - Kaufland US\n",
      "[has_synthetic_dq_issue] - 1\n",
      "[synthetic_dq_issues] - [retailer][Nonsens information] Nonsense retailer name..\n",
      "[synthetic_dq_issues_count] - 1\n",
      "[synthetic_dq_issue_columns] - retailer\n"
     ]
    }
   ],
   "source": [
    "create_dq_issue_at_index(orig_data, 37141, 'retailer', 'Kaufland US', \"[retailer][Nonsens information] Nonsense retailer name..\")"
   ]
  },
  {
   "cell_type": "code",
   "execution_count": 50,
   "metadata": {},
   "outputs": [
    {
     "name": "stdout",
     "output_type": "stream",
     "text": [
      "[product_name] - <class 'str'> - Plus Size Printed Signature Lace Vikini\n",
      "[mrp] - <class 'str'> - $45.00 \n",
      "[price] - <class 'str'> - $45.00 \n",
      "[pdp_url] - <class 'str'> - http://www1.macys.com/shop/product/hanky-panky-plus-size-printed-signature-lace-vikini?ID=2944192&CategoryID=65739\n",
      "[brand_name] - <class 'str'> - Hanky Panky\n",
      "[product_category] - <class 'str'> - Women - Lingerie & Shapewear - Designer Lingerie\n",
      "[retailer] - <class 'str'> - Kaufland US\n",
      "[description] - <class 'str'> - A gorgeous, lush floral design is the perfect finishing touch for this lacy plus size vikini from Hanky Panky.\n",
      "[rating] - <class 'numpy.float64'> - nan\n",
      "[review_count] - <class 'numpy.float64'> - nan\n",
      "[style_attributes] - <class 'str'> - [\"High waist\", \"Soft, stretch Signature lace\", \"Scallop trim at leg openings\", \"Lined at gusset\", \"Nylon/spandex; gusset: cotton\", \"Hand wash\", \"Made in USA\", \"Web ID: 2944192\"]\n",
      "[total_sizes] - <class 'str'> - [\"1X\", \"2X\"]\n",
      "[available_size] - <class 'str'> - [\"1X\", \"2X\"]\n",
      "[color] - <class 'str'> - Red\n",
      "[has_synthetic_dq_issue] - <class 'numpy.int64'> - 1\n",
      "[synthetic_dq_issues_count] - <class 'numpy.int64'> - 1\n",
      "[synthetic_dq_issues] - <class 'str'> - [retailer][Nonsens information] Nonsense retailer name..\n",
      "[synthetic_dq_issue_columns] - <class 'str'> - retailer\n"
     ]
    }
   ],
   "source": [
    "print_cols_name_type(orig_data, 37141)"
   ]
  },
  {
   "cell_type": "markdown",
   "metadata": {},
   "source": [
    "## Create dataset with synthetic DQ issues"
   ]
  },
  {
   "cell_type": "code",
   "execution_count": 51,
   "metadata": {},
   "outputs": [
    {
     "data": {
      "text/html": [
       "<div>\n",
       "<style scoped>\n",
       "    .dataframe tbody tr th:only-of-type {\n",
       "        vertical-align: middle;\n",
       "    }\n",
       "\n",
       "    .dataframe tbody tr th {\n",
       "        vertical-align: top;\n",
       "    }\n",
       "\n",
       "    .dataframe thead th {\n",
       "        text-align: right;\n",
       "    }\n",
       "</style>\n",
       "<table border=\"1\" class=\"dataframe\">\n",
       "  <thead>\n",
       "    <tr style=\"text-align: right;\">\n",
       "      <th></th>\n",
       "      <th>product_name</th>\n",
       "      <th>mrp</th>\n",
       "      <th>price</th>\n",
       "      <th>pdp_url</th>\n",
       "      <th>brand_name</th>\n",
       "      <th>product_category</th>\n",
       "      <th>retailer</th>\n",
       "      <th>description</th>\n",
       "      <th>rating</th>\n",
       "      <th>review_count</th>\n",
       "      <th>style_attributes</th>\n",
       "      <th>total_sizes</th>\n",
       "      <th>available_size</th>\n",
       "      <th>color</th>\n",
       "      <th>has_synthetic_dq_issue</th>\n",
       "      <th>synthetic_dq_issues_count</th>\n",
       "      <th>synthetic_dq_issues</th>\n",
       "      <th>synthetic_dq_issue_columns</th>\n",
       "    </tr>\n",
       "  </thead>\n",
       "  <tbody>\n",
       "    <tr>\n",
       "      <th>50</th>\n",
       "      <td>Modern Logo Pants D1632</td>\n",
       "      <td>$46.00</td>\n",
       "      <td>£16.50</td>\n",
       "      <td>http://www1.macys.com/shop/product/calvin-klei...</td>\n",
       "      <td>Coca-Cola</td>\n",
       "      <td>Women - Lingerie &amp; Shapewear - Designer Lingerie</td>\n",
       "      <td>Macys US</td>\n",
       "      <td>Comfy and low-key, these Modern pants from Cal...</td>\n",
       "      <td>5.0</td>\n",
       "      <td>1.0</td>\n",
       "      <td>[\"Wide elastic waistband features logo\", \"Full...</td>\n",
       "      <td>[\"S\", \"M\", \"L\"]</td>\n",
       "      <td>[\"S\", \"M\", \"L\"]</td>\n",
       "      <td>Black</td>\n",
       "      <td>1</td>\n",
       "      <td>2</td>\n",
       "      <td>[brand_name][Wrong information] Product name t...</td>\n",
       "      <td>brand_name; price</td>\n",
       "    </tr>\n",
       "  </tbody>\n",
       "</table>\n",
       "</div>"
      ],
      "text/plain": [
       "               product_name      mrp   price  \\\n",
       "50  Modern Logo Pants D1632  $46.00   £16.50   \n",
       "\n",
       "                                              pdp_url brand_name  \\\n",
       "50  http://www1.macys.com/shop/product/calvin-klei...  Coca-Cola   \n",
       "\n",
       "                                    product_category  retailer  \\\n",
       "50  Women - Lingerie & Shapewear - Designer Lingerie  Macys US   \n",
       "\n",
       "                                          description  rating  review_count  \\\n",
       "50  Comfy and low-key, these Modern pants from Cal...     5.0           1.0   \n",
       "\n",
       "                                     style_attributes      total_sizes  \\\n",
       "50  [\"Wide elastic waistband features logo\", \"Full...  [\"S\", \"M\", \"L\"]   \n",
       "\n",
       "     available_size  color  has_synthetic_dq_issue  synthetic_dq_issues_count  \\\n",
       "50  [\"S\", \"M\", \"L\"]  Black                       1                          2   \n",
       "\n",
       "                                  synthetic_dq_issues  \\\n",
       "50  [brand_name][Wrong information] Product name t...   \n",
       "\n",
       "   synthetic_dq_issue_columns  \n",
       "50          brand_name; price  "
      ]
     },
     "execution_count": 51,
     "metadata": {},
     "output_type": "execute_result"
    }
   ],
   "source": [
    "orig_data[50:51]"
   ]
  },
  {
   "cell_type": "code",
   "execution_count": 52,
   "metadata": {},
   "outputs": [
    {
     "data": {
      "text/html": [
       "<div>\n",
       "<style scoped>\n",
       "    .dataframe tbody tr th:only-of-type {\n",
       "        vertical-align: middle;\n",
       "    }\n",
       "\n",
       "    .dataframe tbody tr th {\n",
       "        vertical-align: top;\n",
       "    }\n",
       "\n",
       "    .dataframe thead th {\n",
       "        text-align: right;\n",
       "    }\n",
       "</style>\n",
       "<table border=\"1\" class=\"dataframe\">\n",
       "  <thead>\n",
       "    <tr style=\"text-align: right;\">\n",
       "      <th></th>\n",
       "      <th>product_name</th>\n",
       "      <th>mrp</th>\n",
       "      <th>price</th>\n",
       "      <th>pdp_url</th>\n",
       "      <th>brand_name</th>\n",
       "      <th>product_category</th>\n",
       "      <th>retailer</th>\n",
       "      <th>description</th>\n",
       "      <th>rating</th>\n",
       "      <th>review_count</th>\n",
       "      <th>style_attributes</th>\n",
       "      <th>total_sizes</th>\n",
       "      <th>available_size</th>\n",
       "      <th>color</th>\n",
       "      <th>has_synthetic_dq_issue</th>\n",
       "      <th>synthetic_dq_issues_count</th>\n",
       "      <th>synthetic_dq_issues</th>\n",
       "      <th>synthetic_dq_issue_columns</th>\n",
       "    </tr>\n",
       "  </thead>\n",
       "  <tbody>\n",
       "    <tr>\n",
       "      <th>0</th>\n",
       "      <td>ID String Bikini QF1754</td>\n",
       "      <td>$20.00</td>\n",
       "      <td>$20.00</td>\n",
       "      <td>http://www1.macys.com/shop/product/calvin-klei...</td>\n",
       "      <td>Calvin Klein</td>\n",
       "      <td>Women - Lingerie &amp; Shapewear - Designer Lingerie</td>\n",
       "      <td>Macys US</td>\n",
       "      <td>The perfect amount of coverage in a subtle sil...</td>\n",
       "      <td>NaN</td>\n",
       "      <td>NaN</td>\n",
       "      <td>[\"Thin elastic waistband \", \"Repeating logo at...</td>\n",
       "      <td>[\"XS\", \"S\", \"M\", \"L\", \"XL\"]</td>\n",
       "      <td>[\"XS\", \"S\", \"M\", \"L\", \"XL\"]</td>\n",
       "      <td>Black</td>\n",
       "      <td>0</td>\n",
       "      <td>0</td>\n",
       "      <td></td>\n",
       "      <td></td>\n",
       "    </tr>\n",
       "    <tr>\n",
       "      <th>1</th>\n",
       "      <td>ID String Bikini QF1754</td>\n",
       "      <td>$20.00</td>\n",
       "      <td>$20.00</td>\n",
       "      <td>http://www1.macys.com/shop/product/calvin-klei...</td>\n",
       "      <td>Calvin Klein</td>\n",
       "      <td>Women - Lingerie &amp; Shapewear - Designer Lingerie</td>\n",
       "      <td>Macys US</td>\n",
       "      <td>The perfect amount of coverage in a subtle sil...</td>\n",
       "      <td>NaN</td>\n",
       "      <td>NaN</td>\n",
       "      <td>[\"Thin elastic waistband \", \"Repeating logo at...</td>\n",
       "      <td>[\"XS\", \"S\", \"M\", \"L\", \"XL\"]</td>\n",
       "      <td>[\"XS\", \"S\", \"M\", \"L\", \"XL\"]</td>\n",
       "      <td>Simple Grid</td>\n",
       "      <td>0</td>\n",
       "      <td>0</td>\n",
       "      <td></td>\n",
       "      <td></td>\n",
       "    </tr>\n",
       "    <tr>\n",
       "      <th>2</th>\n",
       "      <td>ID String Bikini QF1754</td>\n",
       "      <td>$20.00</td>\n",
       "      <td>$20.00</td>\n",
       "      <td>http://www1.macys.com/shop/product/calvin-klei...</td>\n",
       "      <td>Calvin Klein</td>\n",
       "      <td>Women - Lingerie &amp; Shapewear - Designer Lingerie</td>\n",
       "      <td>Macys US</td>\n",
       "      <td>The perfect amount of coverage in a subtle sil...</td>\n",
       "      <td>NaN</td>\n",
       "      <td>NaN</td>\n",
       "      <td>[\"Thin elastic waistband \", \"Repeating logo at...</td>\n",
       "      <td>[\"XS\", \"S\", \"M\", \"L\", \"XL\"]</td>\n",
       "      <td>[\"XS\", \"S\", \"M\", \"L\", \"XL\"]</td>\n",
       "      <td>White</td>\n",
       "      <td>0</td>\n",
       "      <td>0</td>\n",
       "      <td></td>\n",
       "      <td></td>\n",
       "    </tr>\n",
       "    <tr>\n",
       "      <th>3</th>\n",
       "      <td>CK Black Collection Embrace Lace-Waist Thong Q...</td>\n",
       "      <td>$26.00</td>\n",
       "      <td>$26.00</td>\n",
       "      <td>http://www1.macys.com/shop/product/calvin-klei...</td>\n",
       "      <td>Calvin Klein</td>\n",
       "      <td>Women - Lingerie &amp; Shapewear - Designer Lingerie</td>\n",
       "      <td>Macys US</td>\n",
       "      <td>Exquisitely designed embroidered lace beautifu...</td>\n",
       "      <td>NaN</td>\n",
       "      <td>NaN</td>\n",
       "      <td>[\"Elastic lace waistband\", \"Lace at front and ...</td>\n",
       "      <td>[\"M\"]</td>\n",
       "      <td>[\"M\"]</td>\n",
       "      <td>Regal Sensous</td>\n",
       "      <td>0</td>\n",
       "      <td>0</td>\n",
       "      <td></td>\n",
       "      <td></td>\n",
       "    </tr>\n",
       "    <tr>\n",
       "      <th>4</th>\n",
       "      <td>Halo Lace Boyshort 870205</td>\n",
       "      <td>$15.00</td>\n",
       "      <td>$15.00</td>\n",
       "      <td>http://www1.macys.com/shop/product/wacoal-halo...</td>\n",
       "      <td>Wacoal</td>\n",
       "      <td>Women - Lingerie &amp; Shapewear - Designer Lingerie</td>\n",
       "      <td>Macys US</td>\n",
       "      <td>A fit that is heavenly. The stretch lace Halo ...</td>\n",
       "      <td>5.0</td>\n",
       "      <td>2.0</td>\n",
       "      <td>[\"Stretch lace waistband\", \"All-over floral la...</td>\n",
       "      <td>[\"S\", \"M\", \"L\", \"XL\"]</td>\n",
       "      <td>[\"S\", \"M\", \"L\", \"XL\"]</td>\n",
       "      <td>Black</td>\n",
       "      <td>0</td>\n",
       "      <td>0</td>\n",
       "      <td></td>\n",
       "      <td></td>\n",
       "    </tr>\n",
       "  </tbody>\n",
       "</table>\n",
       "</div>"
      ],
      "text/plain": [
       "                                        product_name      mrp    price  \\\n",
       "0                            ID String Bikini QF1754  $20.00   $20.00    \n",
       "1                            ID String Bikini QF1754  $20.00   $20.00    \n",
       "2                            ID String Bikini QF1754  $20.00   $20.00    \n",
       "3  CK Black Collection Embrace Lace-Waist Thong Q...  $26.00   $26.00    \n",
       "4                          Halo Lace Boyshort 870205  $15.00   $15.00    \n",
       "\n",
       "                                             pdp_url    brand_name  \\\n",
       "0  http://www1.macys.com/shop/product/calvin-klei...  Calvin Klein   \n",
       "1  http://www1.macys.com/shop/product/calvin-klei...  Calvin Klein   \n",
       "2  http://www1.macys.com/shop/product/calvin-klei...  Calvin Klein   \n",
       "3  http://www1.macys.com/shop/product/calvin-klei...  Calvin Klein   \n",
       "4  http://www1.macys.com/shop/product/wacoal-halo...        Wacoal   \n",
       "\n",
       "                                   product_category  retailer  \\\n",
       "0  Women - Lingerie & Shapewear - Designer Lingerie  Macys US   \n",
       "1  Women - Lingerie & Shapewear - Designer Lingerie  Macys US   \n",
       "2  Women - Lingerie & Shapewear - Designer Lingerie  Macys US   \n",
       "3  Women - Lingerie & Shapewear - Designer Lingerie  Macys US   \n",
       "4  Women - Lingerie & Shapewear - Designer Lingerie  Macys US   \n",
       "\n",
       "                                         description  rating  review_count  \\\n",
       "0  The perfect amount of coverage in a subtle sil...     NaN           NaN   \n",
       "1  The perfect amount of coverage in a subtle sil...     NaN           NaN   \n",
       "2  The perfect amount of coverage in a subtle sil...     NaN           NaN   \n",
       "3  Exquisitely designed embroidered lace beautifu...     NaN           NaN   \n",
       "4  A fit that is heavenly. The stretch lace Halo ...     5.0           2.0   \n",
       "\n",
       "                                    style_attributes  \\\n",
       "0  [\"Thin elastic waistband \", \"Repeating logo at...   \n",
       "1  [\"Thin elastic waistband \", \"Repeating logo at...   \n",
       "2  [\"Thin elastic waistband \", \"Repeating logo at...   \n",
       "3  [\"Elastic lace waistband\", \"Lace at front and ...   \n",
       "4  [\"Stretch lace waistband\", \"All-over floral la...   \n",
       "\n",
       "                   total_sizes               available_size          color  \\\n",
       "0  [\"XS\", \"S\", \"M\", \"L\", \"XL\"]  [\"XS\", \"S\", \"M\", \"L\", \"XL\"]          Black   \n",
       "1  [\"XS\", \"S\", \"M\", \"L\", \"XL\"]  [\"XS\", \"S\", \"M\", \"L\", \"XL\"]    Simple Grid   \n",
       "2  [\"XS\", \"S\", \"M\", \"L\", \"XL\"]  [\"XS\", \"S\", \"M\", \"L\", \"XL\"]          White   \n",
       "3                        [\"M\"]                        [\"M\"]  Regal Sensous   \n",
       "4        [\"S\", \"M\", \"L\", \"XL\"]        [\"S\", \"M\", \"L\", \"XL\"]          Black   \n",
       "\n",
       "   has_synthetic_dq_issue  synthetic_dq_issues_count synthetic_dq_issues  \\\n",
       "0                       0                          0                       \n",
       "1                       0                          0                       \n",
       "2                       0                          0                       \n",
       "3                       0                          0                       \n",
       "4                       0                          0                       \n",
       "\n",
       "  synthetic_dq_issue_columns  \n",
       "0                             \n",
       "1                             \n",
       "2                             \n",
       "3                             \n",
       "4                             "
      ]
     },
     "execution_count": 52,
     "metadata": {},
     "output_type": "execute_result"
    }
   ],
   "source": [
    "orig_data.head()"
   ]
  },
  {
   "cell_type": "code",
   "execution_count": 53,
   "metadata": {},
   "outputs": [],
   "source": [
    "orig_data.to_csv('./../data/macys-dataset-experimental-synthetic-dq-issues.csv', index_label='id')"
   ]
  }
 ],
 "metadata": {
  "kernelspec": {
   "display_name": "Python 3",
   "language": "python",
   "name": "python3"
  },
  "language_info": {
   "codemirror_mode": {
    "name": "ipython",
    "version": 3
   },
   "file_extension": ".py",
   "mimetype": "text/x-python",
   "name": "python",
   "nbconvert_exporter": "python",
   "pygments_lexer": "ipython3",
   "version": "3.6.10"
  }
 },
 "nbformat": 4,
 "nbformat_minor": 4
}
