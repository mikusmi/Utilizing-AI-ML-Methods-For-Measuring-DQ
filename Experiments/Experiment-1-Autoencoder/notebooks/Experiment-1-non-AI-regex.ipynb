{
 "cells": [
  {
   "cell_type": "markdown",
   "metadata": {},
   "source": [
    "# Experiment 1 - Complementary non-AI method"
   ]
  },
  {
   "cell_type": "markdown",
   "metadata": {},
   "source": [
    "Details of the experiment can be found in the Master's thesis in section:\n",
    "* 3.3.1.3 Experiment and results for the complementary non-AI method."
   ]
  },
  {
   "cell_type": "code",
   "execution_count": 78,
   "metadata": {},
   "outputs": [],
   "source": [
    "import pandas as pd\n",
    "import re\n",
    "\n",
    "%matplotlib inline\n",
    "\n",
    "pd.options.display.max_columns = None\n",
    "pd.options.display.max_rows = None"
   ]
  },
  {
   "cell_type": "code",
   "execution_count": 79,
   "metadata": {},
   "outputs": [],
   "source": [
    "data = pd.read_csv('./../data/macys-dataset-experimental-synthetic-dq-issues.csv')"
   ]
  },
  {
   "cell_type": "code",
   "execution_count": 80,
   "metadata": {},
   "outputs": [
    {
     "data": {
      "text/html": [
       "<div>\n",
       "<style scoped>\n",
       "    .dataframe tbody tr th:only-of-type {\n",
       "        vertical-align: middle;\n",
       "    }\n",
       "\n",
       "    .dataframe tbody tr th {\n",
       "        vertical-align: top;\n",
       "    }\n",
       "\n",
       "    .dataframe thead th {\n",
       "        text-align: right;\n",
       "    }\n",
       "</style>\n",
       "<table border=\"1\" class=\"dataframe\">\n",
       "  <thead>\n",
       "    <tr style=\"text-align: right;\">\n",
       "      <th></th>\n",
       "      <th>id</th>\n",
       "      <th>product_name</th>\n",
       "      <th>mrp</th>\n",
       "      <th>price</th>\n",
       "      <th>pdp_url</th>\n",
       "      <th>brand_name</th>\n",
       "      <th>product_category</th>\n",
       "      <th>retailer</th>\n",
       "      <th>description</th>\n",
       "      <th>rating</th>\n",
       "      <th>review_count</th>\n",
       "      <th>style_attributes</th>\n",
       "      <th>total_sizes</th>\n",
       "      <th>available_size</th>\n",
       "      <th>color</th>\n",
       "      <th>has_synthetic_dq_issue</th>\n",
       "      <th>synthetic_dq_issues_count</th>\n",
       "      <th>synthetic_dq_issues</th>\n",
       "      <th>synthetic_dq_issue_columns</th>\n",
       "    </tr>\n",
       "  </thead>\n",
       "  <tbody>\n",
       "    <tr>\n",
       "      <th>0</th>\n",
       "      <td>0</td>\n",
       "      <td>ID String Bikini QF1754</td>\n",
       "      <td>$20.00</td>\n",
       "      <td>$20.00</td>\n",
       "      <td>http://www1.macys.com/shop/product/calvin-klei...</td>\n",
       "      <td>Calvin Klein</td>\n",
       "      <td>Women - Lingerie &amp; Shapewear - Designer Lingerie</td>\n",
       "      <td>Macys US</td>\n",
       "      <td>The perfect amount of coverage in a subtle sil...</td>\n",
       "      <td>NaN</td>\n",
       "      <td>NaN</td>\n",
       "      <td>[\"Thin elastic waistband \", \"Repeating logo at...</td>\n",
       "      <td>[\"XS\", \"S\", \"M\", \"L\", \"XL\"]</td>\n",
       "      <td>[\"XS\", \"S\", \"M\", \"L\", \"XL\"]</td>\n",
       "      <td>Black</td>\n",
       "      <td>0</td>\n",
       "      <td>0</td>\n",
       "      <td>NaN</td>\n",
       "      <td>NaN</td>\n",
       "    </tr>\n",
       "    <tr>\n",
       "      <th>1</th>\n",
       "      <td>1</td>\n",
       "      <td>ID String Bikini QF1754</td>\n",
       "      <td>$20.00</td>\n",
       "      <td>$20.00</td>\n",
       "      <td>http://www1.macys.com/shop/product/calvin-klei...</td>\n",
       "      <td>Calvin Klein</td>\n",
       "      <td>Women - Lingerie &amp; Shapewear - Designer Lingerie</td>\n",
       "      <td>Macys US</td>\n",
       "      <td>The perfect amount of coverage in a subtle sil...</td>\n",
       "      <td>NaN</td>\n",
       "      <td>NaN</td>\n",
       "      <td>[\"Thin elastic waistband \", \"Repeating logo at...</td>\n",
       "      <td>[\"XS\", \"S\", \"M\", \"L\", \"XL\"]</td>\n",
       "      <td>[\"XS\", \"S\", \"M\", \"L\", \"XL\"]</td>\n",
       "      <td>Simple Grid</td>\n",
       "      <td>0</td>\n",
       "      <td>0</td>\n",
       "      <td>NaN</td>\n",
       "      <td>NaN</td>\n",
       "    </tr>\n",
       "    <tr>\n",
       "      <th>2</th>\n",
       "      <td>2</td>\n",
       "      <td>ID String Bikini QF1754</td>\n",
       "      <td>$20.00</td>\n",
       "      <td>$20.00</td>\n",
       "      <td>http://www1.macys.com/shop/product/calvin-klei...</td>\n",
       "      <td>Calvin Klein</td>\n",
       "      <td>Women - Lingerie &amp; Shapewear - Designer Lingerie</td>\n",
       "      <td>Macys US</td>\n",
       "      <td>The perfect amount of coverage in a subtle sil...</td>\n",
       "      <td>NaN</td>\n",
       "      <td>NaN</td>\n",
       "      <td>[\"Thin elastic waistband \", \"Repeating logo at...</td>\n",
       "      <td>[\"XS\", \"S\", \"M\", \"L\", \"XL\"]</td>\n",
       "      <td>[\"XS\", \"S\", \"M\", \"L\", \"XL\"]</td>\n",
       "      <td>White</td>\n",
       "      <td>0</td>\n",
       "      <td>0</td>\n",
       "      <td>NaN</td>\n",
       "      <td>NaN</td>\n",
       "    </tr>\n",
       "    <tr>\n",
       "      <th>3</th>\n",
       "      <td>3</td>\n",
       "      <td>CK Black Collection Embrace Lace-Waist Thong Q...</td>\n",
       "      <td>$26.00</td>\n",
       "      <td>$26.00</td>\n",
       "      <td>http://www1.macys.com/shop/product/calvin-klei...</td>\n",
       "      <td>Calvin Klein</td>\n",
       "      <td>Women - Lingerie &amp; Shapewear - Designer Lingerie</td>\n",
       "      <td>Macys US</td>\n",
       "      <td>Exquisitely designed embroidered lace beautifu...</td>\n",
       "      <td>NaN</td>\n",
       "      <td>NaN</td>\n",
       "      <td>[\"Elastic lace waistband\", \"Lace at front and ...</td>\n",
       "      <td>[\"M\"]</td>\n",
       "      <td>[\"M\"]</td>\n",
       "      <td>Regal Sensous</td>\n",
       "      <td>0</td>\n",
       "      <td>0</td>\n",
       "      <td>NaN</td>\n",
       "      <td>NaN</td>\n",
       "    </tr>\n",
       "    <tr>\n",
       "      <th>4</th>\n",
       "      <td>4</td>\n",
       "      <td>Halo Lace Boyshort 870205</td>\n",
       "      <td>$15.00</td>\n",
       "      <td>$15.00</td>\n",
       "      <td>http://www1.macys.com/shop/product/wacoal-halo...</td>\n",
       "      <td>Wacoal</td>\n",
       "      <td>Women - Lingerie &amp; Shapewear - Designer Lingerie</td>\n",
       "      <td>Macys US</td>\n",
       "      <td>A fit that is heavenly. The stretch lace Halo ...</td>\n",
       "      <td>5.0</td>\n",
       "      <td>2.0</td>\n",
       "      <td>[\"Stretch lace waistband\", \"All-over floral la...</td>\n",
       "      <td>[\"S\", \"M\", \"L\", \"XL\"]</td>\n",
       "      <td>[\"S\", \"M\", \"L\", \"XL\"]</td>\n",
       "      <td>Black</td>\n",
       "      <td>0</td>\n",
       "      <td>0</td>\n",
       "      <td>NaN</td>\n",
       "      <td>NaN</td>\n",
       "    </tr>\n",
       "  </tbody>\n",
       "</table>\n",
       "</div>"
      ],
      "text/plain": [
       "   id                                       product_name      mrp    price  \\\n",
       "0   0                            ID String Bikini QF1754  $20.00   $20.00    \n",
       "1   1                            ID String Bikini QF1754  $20.00   $20.00    \n",
       "2   2                            ID String Bikini QF1754  $20.00   $20.00    \n",
       "3   3  CK Black Collection Embrace Lace-Waist Thong Q...  $26.00   $26.00    \n",
       "4   4                          Halo Lace Boyshort 870205  $15.00   $15.00    \n",
       "\n",
       "                                             pdp_url    brand_name  \\\n",
       "0  http://www1.macys.com/shop/product/calvin-klei...  Calvin Klein   \n",
       "1  http://www1.macys.com/shop/product/calvin-klei...  Calvin Klein   \n",
       "2  http://www1.macys.com/shop/product/calvin-klei...  Calvin Klein   \n",
       "3  http://www1.macys.com/shop/product/calvin-klei...  Calvin Klein   \n",
       "4  http://www1.macys.com/shop/product/wacoal-halo...        Wacoal   \n",
       "\n",
       "                                   product_category  retailer  \\\n",
       "0  Women - Lingerie & Shapewear - Designer Lingerie  Macys US   \n",
       "1  Women - Lingerie & Shapewear - Designer Lingerie  Macys US   \n",
       "2  Women - Lingerie & Shapewear - Designer Lingerie  Macys US   \n",
       "3  Women - Lingerie & Shapewear - Designer Lingerie  Macys US   \n",
       "4  Women - Lingerie & Shapewear - Designer Lingerie  Macys US   \n",
       "\n",
       "                                         description  rating  review_count  \\\n",
       "0  The perfect amount of coverage in a subtle sil...     NaN           NaN   \n",
       "1  The perfect amount of coverage in a subtle sil...     NaN           NaN   \n",
       "2  The perfect amount of coverage in a subtle sil...     NaN           NaN   \n",
       "3  Exquisitely designed embroidered lace beautifu...     NaN           NaN   \n",
       "4  A fit that is heavenly. The stretch lace Halo ...     5.0           2.0   \n",
       "\n",
       "                                    style_attributes  \\\n",
       "0  [\"Thin elastic waistband \", \"Repeating logo at...   \n",
       "1  [\"Thin elastic waistband \", \"Repeating logo at...   \n",
       "2  [\"Thin elastic waistband \", \"Repeating logo at...   \n",
       "3  [\"Elastic lace waistband\", \"Lace at front and ...   \n",
       "4  [\"Stretch lace waistband\", \"All-over floral la...   \n",
       "\n",
       "                   total_sizes               available_size          color  \\\n",
       "0  [\"XS\", \"S\", \"M\", \"L\", \"XL\"]  [\"XS\", \"S\", \"M\", \"L\", \"XL\"]          Black   \n",
       "1  [\"XS\", \"S\", \"M\", \"L\", \"XL\"]  [\"XS\", \"S\", \"M\", \"L\", \"XL\"]    Simple Grid   \n",
       "2  [\"XS\", \"S\", \"M\", \"L\", \"XL\"]  [\"XS\", \"S\", \"M\", \"L\", \"XL\"]          White   \n",
       "3                        [\"M\"]                        [\"M\"]  Regal Sensous   \n",
       "4        [\"S\", \"M\", \"L\", \"XL\"]        [\"S\", \"M\", \"L\", \"XL\"]          Black   \n",
       "\n",
       "   has_synthetic_dq_issue  synthetic_dq_issues_count synthetic_dq_issues  \\\n",
       "0                       0                          0                 NaN   \n",
       "1                       0                          0                 NaN   \n",
       "2                       0                          0                 NaN   \n",
       "3                       0                          0                 NaN   \n",
       "4                       0                          0                 NaN   \n",
       "\n",
       "  synthetic_dq_issue_columns  \n",
       "0                        NaN  \n",
       "1                        NaN  \n",
       "2                        NaN  \n",
       "3                        NaN  \n",
       "4                        NaN  "
      ]
     },
     "execution_count": 80,
     "metadata": {},
     "output_type": "execute_result"
    }
   ],
   "source": [
    "data.head()"
   ]
  },
  {
   "cell_type": "code",
   "execution_count": 81,
   "metadata": {},
   "outputs": [],
   "source": [
    "price_data_list = data[\"price\"].tolist()"
   ]
  },
  {
   "cell_type": "code",
   "execution_count": 82,
   "metadata": {},
   "outputs": [
    {
     "name": "stdout",
     "output_type": "stream",
     "text": [
      "['$20.00 ', '$20.00 ', '$20.00 ', '$26.00 ', '$15.00 ', '$67.00 ', '$46.00 ', '$46.00 ', '$60.00 ', '$60.00 ', '$26.00 ', '$26.00 ', '$48.00 ', '$48.00 ', '$67.00 ', '$30.00 ', '$30.00 ', '$60.00 ', '$60.00 ', '$60.00 ', '$60.00 ', '$60.00 ', '$60.00 ', '$79.00 ', '$79.00 ', '$25.87 ', '$25.87 ', '$25.87 ', '$25.87 ', '$25.87 ', '$25.87 ', '$78.00 ', '$78.00 ', '$24.75 ', '$65.00 ', '$65.00 ', '$65.00 ', '$65.00 ', '$21.37 ', '$21.37 ', '$21.37 ', '$21.37 ', '$21.37 ', '$40.00 ', '$40.00 ', '$40.00 ', '$40.00 ', '$40.00 ', '$40.00 ', '$40.00 ', '£16.50', '$46.00 ', '$12.37 ', '$12.37 ', '$12.37 ', '$12.37 ', '$45.50 ', '$34.00 ', '$34.00 ', '$34.00 ', '$34.00 ', '$34.00 ', '$47.60 ', '$47.60 ', '$18.00 ', '$62.00 ', '$62.00 ', '$62.00 ', '$62.00 ', '$18.00 ', '$35.00 ', '$34.00 ', '$34.00 ', '$34.00 ', '$32.00 ', '$32.00 ', '$15.00 ', '$15.00 ', '$15.00 ', '$15.00 ', '$24.99 ', '$24.99 ', '$78.00 ', '$78.00 ', '$13.00 ', '$13.00 ', '$13.00 ', '$26.60 ', '$65.00 ', '$45.00 ', '$38.00 ', '$38.00 ', '$25.50 ', '$12.00 ', '$12.00 ', '$52.00 ', '$52.00 ', '$52.00 ', '$52.00 ', '$48.00 ']\n"
     ]
    }
   ],
   "source": [
    "print(price_data_list[0:100])"
   ]
  },
  {
   "cell_type": "markdown",
   "metadata": {},
   "source": [
    "## Print 'price' synthetic DQ issues via regex"
   ]
  },
  {
   "cell_type": "code",
   "execution_count": 83,
   "metadata": {},
   "outputs": [],
   "source": [
    "regex_value = r'^\\$\\d+\\.\\d{2}'"
   ]
  },
  {
   "cell_type": "code",
   "execution_count": 84,
   "metadata": {},
   "outputs": [
    {
     "name": "stdout",
     "output_type": "stream",
     "text": [
      "£16.50\n",
      "$16\n",
      "$0.0\n",
      "$24,50\n"
     ]
    }
   ],
   "source": [
    "for price_value in price_data_list:\n",
    "    z = re.match(regex_value, price_value)\n",
    "    if z is None:\n",
    "        print(price_value)"
   ]
  }
 ],
 "metadata": {
  "kernelspec": {
   "display_name": "Python 3",
   "language": "python",
   "name": "python3"
  },
  "language_info": {
   "codemirror_mode": {
    "name": "ipython",
    "version": 3
   },
   "file_extension": ".py",
   "mimetype": "text/x-python",
   "name": "python",
   "nbconvert_exporter": "python",
   "pygments_lexer": "ipython3",
   "version": "3.6.10"
  }
 },
 "nbformat": 4,
 "nbformat_minor": 4
}
